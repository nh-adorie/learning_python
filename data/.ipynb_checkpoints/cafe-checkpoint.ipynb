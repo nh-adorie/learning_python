{
 "cells": [
  {
   "cell_type": "markdown",
   "id": "21852a3d-b94d-40b8-93cd-19f8321cd0fd",
   "metadata": {},
   "source": [
    "## OBJECTIVES\n",
    "1. Clean the data:\n",
    "- Handle missing values ​​(null).\n",
    "- Standardize date formats.\n",
    "- Correct spelling errors in product or category names.\n",
    "- Convert data types appropriate for analysis.\n",
    "\n",
    "2. Analyze the data:\n",
    "- Calculate total revenue by day.\n",
    "- Identify best-selling products.\n",
    "- Analyze revenue by time frame of day.\n",
    "- Calculate average number of products sold per transaction.\n",
    "\n",
    "3. Visualize the data:\n",
    "- Plot revenue by day.\n",
    "- Column chart for top 5 best-selling products.\n",
    "- Pie chart showing revenue percentage by product category."
   ]
  },
  {
   "cell_type": "code",
   "execution_count": 1,
   "id": "092fd1f6-ead7-47e3-8d33-4f23daa3c05f",
   "metadata": {},
   "outputs": [],
   "source": [
    "# Import needed libraries\n",
    "\n",
    "import kagglehub \n",
    "import pandas as pd\n",
    "import matplotlib.pyplot as plt\n",
    "import os\n",
    "import numpy as np"
   ]
  },
  {
   "cell_type": "code",
   "execution_count": 2,
   "id": "6dcae265-7aef-4145-a0ba-4e631cfef0f3",
   "metadata": {},
   "outputs": [
    {
     "name": "stdout",
     "output_type": "stream",
     "text": [
      "Downloading from https://www.kaggle.com/api/v1/datasets/download/ahmedmohamed2003/cafe-sales-dirty-data-for-cleaning-training?dataset_version_number=1...\n"
     ]
    },
    {
     "name": "stderr",
     "output_type": "stream",
     "text": [
      "100%|█████████████████████████████████████████████████████████████████████████████████| 111k/111k [00:00<00:00, 6.34MB/s]"
     ]
    },
    {
     "name": "stdout",
     "output_type": "stream",
     "text": [
      "Extracting files...\n",
      "Path to dataset files: /home/gitpod/.cache/kagglehub/datasets/ahmedmohamed2003/cafe-sales-dirty-data-for-cleaning-training/versions/1\n"
     ]
    },
    {
     "name": "stderr",
     "output_type": "stream",
     "text": [
      "\n"
     ]
    }
   ],
   "source": [
    "# Download latest version data from kagglehub\n",
    "path = kagglehub.dataset_download(\"ahmedmohamed2003/cafe-sales-dirty-data-for-cleaning-training\")\n",
    "print(\"Path to dataset files:\", path)"
   ]
  },
  {
   "cell_type": "code",
   "execution_count": 3,
   "id": "f5364d9d-50e7-4456-8c47-735c967a7548",
   "metadata": {},
   "outputs": [
    {
     "name": "stdout",
     "output_type": "stream",
     "text": [
      "This folder includes the following files:\n",
      "dirty_cafe_sales.csv\n"
     ]
    }
   ],
   "source": [
    "# Show list of files in kaggle hub folder\n",
    "\n",
    "file_path = '/home/gitpod/.cache/kagglehub/datasets/ahmedmohamed2003/cafe-sales-dirty-data-for-cleaning-training/versions/1'\n",
    "all_files = os.listdir(file_path)\n",
    "print('This folder includes the following files:')\n",
    "for file in all_files:\n",
    "    print(file)"
   ]
  }
 ],
 "metadata": {
  "kernelspec": {
   "display_name": "Python 3 (ipykernel)",
   "language": "python",
   "name": "python3"
  },
  "language_info": {
   "codemirror_mode": {
    "name": "ipython",
    "version": 3
   },
   "file_extension": ".py",
   "mimetype": "text/x-python",
   "name": "python",
   "nbconvert_exporter": "python",
   "pygments_lexer": "ipython3",
   "version": "3.12.9"
  }
 },
 "nbformat": 4,
 "nbformat_minor": 5
}
