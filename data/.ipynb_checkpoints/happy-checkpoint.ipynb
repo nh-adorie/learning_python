{
 "cells": [
  {
   "cell_type": "code",
   "execution_count": 2,
   "id": "b2347638-5c72-43a2-a709-e1bd46c007c4",
   "metadata": {},
   "outputs": [],
   "source": [
    "import os\n",
    "import kagglehub\n",
    "import pandas as pd\n",
    "import numpy as np\n",
    "import matplotlib.pyplot as plt"
   ]
  },
  {
   "cell_type": "code",
   "execution_count": 3,
   "id": "77a8bdbb-347e-4316-93d5-3c704dc66879",
   "metadata": {},
   "outputs": [
    {
     "name": "stdout",
     "output_type": "stream",
     "text": [
      "Downloading from https://www.kaggle.com/api/v1/datasets/download/unsdsn/world-happiness?dataset_version_number=2...\n"
     ]
    },
    {
     "name": "stderr",
     "output_type": "stream",
     "text": [
      "100%|█████████████████████████████████████████████████████████████████████████| 36.8k/36.8k [00:00<00:00, 19.8MB/s]"
     ]
    },
    {
     "name": "stdout",
     "output_type": "stream",
     "text": [
      "Extracting files...\n",
      "Path to dataset files: /home/gitpod/.cache/kagglehub/datasets/unsdsn/world-happiness/versions/2\n"
     ]
    },
    {
     "name": "stderr",
     "output_type": "stream",
     "text": [
      "\n"
     ]
    }
   ],
   "source": [
    "# Download latest version\n",
    "path = kagglehub.dataset_download(\"unsdsn/world-happiness\")\n",
    "\n",
    "print(\"Path to dataset files:\", path)"
   ]
  },
  {
   "cell_type": "code",
   "execution_count": 16,
   "id": "1b9c0264-709f-4df8-bb79-fc7be322ac7c",
   "metadata": {},
   "outputs": [
    {
     "name": "stdout",
     "output_type": "stream",
     "text": [
      "Các tệp trong /home/gitpod/.cache/kagglehub/datasets/unsdsn/world-happiness/versions/2 gồm: \n",
      "2015.csv\n",
      "2016.csv\n",
      "2017.csv\n",
      "2018.csv\n",
      "2019.csv\n"
     ]
    }
   ],
   "source": [
    "# Xem trong thư mục có những tệp nào\n",
    "path = '/home/gitpod/.cache/kagglehub/datasets/unsdsn/world-happiness/versions/2'\n",
    "all_files = os.listdir(path)\n",
    "print(\"Các tệp trong /home/gitpod/.cache/kagglehub/datasets/unsdsn/world-happiness/versions/2 gồm: \")\n",
    "for i in all_files:\n",
    "    print(i)"
   ]
  },
  {
   "cell_type": "code",
   "execution_count": 78,
   "id": "22d8b735-adab-491d-ab10-11c8c3962b41",
   "metadata": {},
   "outputs": [],
   "source": [
    "# Đọc file csv bằng pd.read_csv\n",
    "raw_2015 = pd.read_csv('/home/gitpod/.cache/kagglehub/datasets/unsdsn/world-happiness/versions/2/2015.csv')\n",
    "raw_2016 = pd.read_csv('/home/gitpod/.cache/kagglehub/datasets/unsdsn/world-happiness/versions/2/2016.csv')\n",
    "raw_2017 = pd.read_csv('/home/gitpod/.cache/kagglehub/datasets/unsdsn/world-happiness/versions/2/2017.csv')"
   ]
  },
  {
   "cell_type": "markdown",
   "id": "1918aa24-d634-4b80-aa5f-1dfb34a534aa",
   "metadata": {},
   "source": [
    "# Happiness Score được tính toán dựa trên các chỉ số về:\n",
    "- Economy\n",
    "- Family\n",
    "- Health\n",
    "- Freedom\n",
    "- Trust\n",
    "- Generosity\n",
    "* HappinessScore = Economic(GDPpercap) + Family + Health + Freedom + Trust + Generosity + Dystopia Residual"
   ]
  },
  {
   "cell_type": "markdown",
   "id": "d1cfc484-9a80-40ca-9b98-4755265a6541",
   "metadata": {},
   "source": [
    "# .info()\n",
    "- 2015: 12 col, 158 row\n",
    "- 2016: 13 col, 157 row\n",
    "- 2017: 12 col, 155 row"
   ]
  },
  {
   "cell_type": "code",
   "execution_count": 93,
   "id": "1c8b725a-ae90-4139-8aeb-c2a3cd66612c",
   "metadata": {},
   "outputs": [],
   "source": [
    "columns = raw_2017.columns.tolist()"
   ]
  },
  {
   "cell_type": "code",
   "execution_count": 94,
   "id": "4b2f4dc1-204c-4663-8165-005ff0736557",
   "metadata": {},
   "outputs": [],
   "source": [
    "columns[9], columns[10] = columns[10], columns[9]"
   ]
  },
  {
   "cell_type": "code",
   "execution_count": 95,
   "id": "b021d9f9-8a54-4bac-bd0a-cfb2243f8ca0",
   "metadata": {},
   "outputs": [],
   "source": [
    "raw_2017 = raw_2017[columns]"
   ]
  },
  {
   "cell_type": "code",
   "execution_count": 97,
   "id": "aa1d6301-52ea-4434-9e0e-7e0181ab6fd5",
   "metadata": {},
   "outputs": [],
   "source": [
    "# Tạo hàm để kiểm tra xem header của các bảng đã giống nhau chưa\n",
    "def is_same_header(df_list):\n",
    "    header = list(df_list[0].columns)\n",
    "    all_same = all(list(df.columns) == header for df in df_list)\n",
    "    return all_same"
   ]
  },
  {
   "cell_type": "code",
   "execution_count": 98,
   "id": "f8e7fdc2-bb3a-4768-ae49-fcb562fbf611",
   "metadata": {},
   "outputs": [
    {
     "data": {
      "text/plain": [
       "False"
      ]
     },
     "execution_count": 98,
     "metadata": {},
     "output_type": "execute_result"
    }
   ],
   "source": [
    "# Kiểm tra raw list xem đã có same header chưa?\n",
    "raw_list = [raw_2015, raw_2016, raw_2017]\n",
    "is_same_header(raw_list)"
   ]
  },
  {
   "cell_type": "code",
   "execution_count": 71,
   "id": "f3db9b01-1913-49ae-b3cf-2f8491738684",
   "metadata": {},
   "outputs": [],
   "source": [
    "# Tạo bảng mới chỉ gồm những cột mình cần\n",
    "new_header = ['Country', 'Happiness Rank', 'Happiness Score',\n",
    "      'Economy (GDP per Capita)', 'Family',\n",
    "       'Health (Life Expectancy)', 'Freedom', 'Trust (Government Corruption)',\n",
    "       'Generosity', 'Dystopia Residual']\n",
    "new_2015 = pd.DataFrame(raw_2015,columns = new_header)\n",
    "new_2016 = pd.DataFrame(raw_2016,columns = new_header)"
   ]
  },
  {
   "cell_type": "code",
   "execution_count": 99,
   "id": "c338c4e0-058c-47eb-8e97-b253ae51e4f4",
   "metadata": {},
   "outputs": [],
   "source": [
    "new_2017 = raw_2017.drop(['Whisker.high' ,\t'Whisker.low'], axis = 1)"
   ]
  },
  {
   "cell_type": "code",
   "execution_count": 100,
   "id": "3d25e3d6-5a90-440f-959f-05f266559f5e",
   "metadata": {},
   "outputs": [],
   "source": [
    "new_2017.columns = ['Country', 'Happiness Rank', 'Happiness Score',\n",
    "      'Economy (GDP per Capita)', 'Family',\n",
    "       'Health (Life Expectancy)', 'Freedom', 'Trust (Government Corruption)',\n",
    "       'Generosity', 'Dystopia Residual']"
   ]
  },
  {
   "cell_type": "code",
   "execution_count": 101,
   "id": "88fd7b7a-a1ff-4d8a-af69-d3b1cb0961b6",
   "metadata": {},
   "outputs": [
    {
     "data": {
      "text/plain": [
       "True"
      ]
     },
     "execution_count": 101,
     "metadata": {},
     "output_type": "execute_result"
    }
   ],
   "source": [
    "# Kiểm tra new list xem đã có same header chưa?\n",
    "new_list = [new_2015, new_2016, new_2017]\n",
    "is_same_header(new_list)"
   ]
  },
  {
   "cell_type": "code",
   "execution_count": 102,
   "id": "57458d7b-7d7a-473a-8109-add27af84632",
   "metadata": {},
   "outputs": [],
   "source": [
    "new_2015['Year']=2015\n",
    "new_2016['Year']=2016\n",
    "new_2017['Year']=2017"
   ]
  },
  {
   "cell_type": "code",
   "execution_count": 105,
   "id": "100a133a-e164-4083-bc70-1882718ae1b2",
   "metadata": {},
   "outputs": [],
   "source": [
    "# Nối các năm vào cùng 1 bảng\n",
    "total = pd.concat([new_2015,new_2016,new_2017])"
   ]
  },
  {
   "cell_type": "code",
   "execution_count": 107,
   "id": "a9d6e227-10e3-4096-92f5-31389c97f51b",
   "metadata": {},
   "outputs": [
    {
     "data": {
      "text/plain": [
       "Country                          0\n",
       "Happiness Rank                   0\n",
       "Happiness Score                  0\n",
       "Economy (GDP per Capita)         0\n",
       "Family                           0\n",
       "Health (Life Expectancy)         0\n",
       "Freedom                          0\n",
       "Trust (Government Corruption)    0\n",
       "Generosity                       0\n",
       "Dystopia Residual                0\n",
       "Year                             0\n",
       "dtype: int64"
      ]
     },
     "execution_count": 107,
     "metadata": {},
     "output_type": "execute_result"
    }
   ],
   "source": [
    "# Xem có giá trị trống không\n",
    "total.isnull().sum()"
   ]
  },
  {
   "cell_type": "code",
   "execution_count": null,
   "id": "060410da-d6f6-4f80-bf10-b6763bd75248",
   "metadata": {},
   "outputs": [],
   "source": [
    "# Xong bước làm sạch dữ liệu ( •̀ ω •́ )y"
   ]
  },
  {
   "cell_type": "code",
   "execution_count": 122,
   "id": "e57a2451-55c7-4a8a-8530-e7fad0efffbf",
   "metadata": {},
   "outputs": [],
   "source": [
    "# Lấy những cột cần lấy, đổi tên cột\n",
    "\n",
    "rank_2015 = new_2015[['Country','Happiness Rank']]\n",
    "rank_2016 = new_2016[['Country', 'Happiness Rank']]\n",
    "rank_2017 = new_2017[['Country', 'Happiness Rank']]"
   ]
  },
  {
   "cell_type": "code",
   "execution_count": 133,
   "id": "4a3c3a79-31ff-4779-a839-965c3d6714e7",
   "metadata": {},
   "outputs": [],
   "source": [
    "# Merge các năm vào thành cùng 1 bảng\n",
    "\n",
    "time_rank = rank_2015.merge(rank_2016, on = 'Country', how = 'inner').merge(rank_2017, on = 'Country', how = 'inner')"
   ]
  },
  {
   "cell_type": "code",
   "execution_count": 137,
   "id": "a3a870b1-267b-4238-b005-7745d02280d8",
   "metadata": {},
   "outputs": [],
   "source": [
    "# Đổi tên các cột tương ứng với năm\n",
    "\n",
    "time_rank = time_rank.rename(columns={'Happiness Rank_x':'Rank_2015','Happiness Rank_y':'Rank_2016','Happiness Rank':'Rank_2017'})"
   ]
  },
  {
   "cell_type": "code",
   "execution_count": 151,
   "id": "109a962e-fcfd-4a52-8d17-d86afb6b5422",
   "metadata": {},
   "outputs": [
    {
     "data": {
      "text/html": [
       "<div>\n",
       "<style scoped>\n",
       "    .dataframe tbody tr th:only-of-type {\n",
       "        vertical-align: middle;\n",
       "    }\n",
       "\n",
       "    .dataframe tbody tr th {\n",
       "        vertical-align: top;\n",
       "    }\n",
       "\n",
       "    .dataframe thead th {\n",
       "        text-align: right;\n",
       "    }\n",
       "</style>\n",
       "<table border=\"1\" class=\"dataframe\">\n",
       "  <thead>\n",
       "    <tr style=\"text-align: right;\">\n",
       "      <th></th>\n",
       "      <th>Country</th>\n",
       "      <th>Rank_2015</th>\n",
       "      <th>Rank_2016</th>\n",
       "      <th>Rank_2017</th>\n",
       "    </tr>\n",
       "  </thead>\n",
       "  <tbody>\n",
       "    <tr>\n",
       "      <th>70</th>\n",
       "      <td>Vietnam</td>\n",
       "      <td>75</td>\n",
       "      <td>96</td>\n",
       "      <td>94</td>\n",
       "    </tr>\n",
       "  </tbody>\n",
       "</table>\n",
       "</div>"
      ],
      "text/plain": [
       "    Country  Rank_2015  Rank_2016  Rank_2017\n",
       "70  Vietnam         75         96         94"
      ]
     },
     "execution_count": 151,
     "metadata": {},
     "output_type": "execute_result"
    }
   ],
   "source": [
    "country = ['Vietnam']\n",
    "country_rank = time_rank[time_rank['Country'].isin(country)]\n",
    "country_rank"
   ]
  },
  {
   "cell_type": "code",
   "execution_count": 174,
   "id": "773e461c-6126-4307-b8d3-341f9c2a9f09",
   "metadata": {},
   "outputs": [
    {
     "data": {
      "image/png": "[encoded data removed]",
      "text/plain": [
       "<Figure size 640x480 with 1 Axes>"
      ]
     },
     "metadata": {},
     "output_type": "display_data"
    }
   ],
   "source": [
    "x = [2015,2016,2017]\n",
    "y = country_rank[['Rank_2015', 'Rank_2016', 'Rank_2017']].values.flatten()\n",
    "plt.gca().invert_yaxis()  # Đảo ngược trục y để rank 1 ở trên cùng\n",
    "plt.xticks(x)  # Giá trị trên trục x chỉ giống những giá trị ở trong x (nếu không để tick thì sẽ bị 2015.25 2015.5 ... 2016)\n",
    "plt.plot(x,y)\n",
    "plt.show()"
   ]
  }
 ],
 "metadata": {
  "kernelspec": {
   "display_name": "Python 3 (ipykernel)",
   "language": "python",
   "name": "python3"
  },
  "language_info": {
   "codemirror_mode": {
    "name": "ipython",
    "version": 3
   },
   "file_extension": ".py",
   "mimetype": "text/x-python",
   "name": "python",
   "nbconvert_exporter": "python",
   "pygments_lexer": "ipython3",
   "version": "3.12.9"
  }
 },
 "nbformat": 4,
 "nbformat_minor": 5
}
