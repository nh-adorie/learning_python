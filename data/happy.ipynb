{
 "cells": [
  {
   "cell_type": "code",
   "execution_count": 2,
   "id": "b2347638-5c72-43a2-a709-e1bd46c007c4",
   "metadata": {},
   "outputs": [],
   "source": [
    "import os\n",
    "import kagglehub\n",
    "import pandas as pd\n",
    "import numpy as np\n",
    "import matplotlib.pyplot as plt"
   ]
  },
  {
   "cell_type": "code",
   "execution_count": 3,
   "id": "77a8bdbb-347e-4316-93d5-3c704dc66879",
   "metadata": {},
   "outputs": [
    {
     "name": "stdout",
     "output_type": "stream",
     "text": [
      "Downloading from https://www.kaggle.com/api/v1/datasets/download/unsdsn/world-happiness?dataset_version_number=2...\n"
     ]
    },
    {
     "name": "stderr",
     "output_type": "stream",
     "text": [
      "100%|█████████████████████████████████████████████████████████████████████████| 36.8k/36.8k [00:00<00:00, 19.8MB/s]"
     ]
    },
    {
     "name": "stdout",
     "output_type": "stream",
     "text": [
      "Extracting files...\n",
      "Path to dataset files: /home/gitpod/.cache/kagglehub/datasets/unsdsn/world-happiness/versions/2\n"
     ]
    },
    {
     "name": "stderr",
     "output_type": "stream",
     "text": [
      "\n"
     ]
    }
   ],
   "source": [
    "# Download latest version\n",
    "path = kagglehub.dataset_download(\"unsdsn/world-happiness\")\n",
    "\n",
    "print(\"Path to dataset files:\", path)"
   ]
  },
  {
   "cell_type": "code",
   "execution_count": 16,
   "id": "1b9c0264-709f-4df8-bb79-fc7be322ac7c",
   "metadata": {},
   "outputs": [
    {
     "name": "stdout",
     "output_type": "stream",
     "text": [
      "Các tệp trong /home/gitpod/.cache/kagglehub/datasets/unsdsn/world-happiness/versions/2 gồm: \n",
      "2015.csv\n",
      "2016.csv\n",
      "2017.csv\n",
      "2018.csv\n",
      "2019.csv\n"
     ]
    }
   ],
   "source": [
    "# Xem trong thư mục có những tệp nào\n",
    "path = '/home/gitpod/.cache/kagglehub/datasets/unsdsn/world-happiness/versions/2'\n",
    "all_files = os.listdir(path)\n",
    "print(\"Các tệp trong /home/gitpod/.cache/kagglehub/datasets/unsdsn/world-happiness/versions/2 gồm: \")\n",
    "for i in all_files:\n",
    "    print(i)"
   ]
  },
  {
   "cell_type": "code",
   "execution_count": 15,
   "id": "22d8b735-adab-491d-ab10-11c8c3962b41",
   "metadata": {},
   "outputs": [],
   "source": [
    "# Đọc file csv bằng pd.read_csv\n",
    "df_2015 = pd.read_csv('/home/gitpod/.cache/kagglehub/datasets/unsdsn/world-happiness/versions/2/2015.csv')\n",
    "df_2016 = pd.read_csv('/home/gitpod/.cache/kagglehub/datasets/unsdsn/world-happiness/versions/2/2016.csv')\n",
    "df_2017 = pd.read_csv('/home/gitpod/.cache/kagglehub/datasets/unsdsn/world-happiness/versions/2/2017.csv')\n",
    "df_2018 = pd.read_csv('/home/gitpod/.cache/kagglehub/datasets/unsdsn/world-happiness/versions/2/2018.csv')\n",
    "df_2019 = pd.read_csv('/home/gitpod/.cache/kagglehub/datasets/unsdsn/world-happiness/versions/2/2019.csv')"
   ]
  },
  {
   "cell_type": "code",
   "execution_count": null,
   "id": "724aae77-6cc1-4af2-a728-2e3eccfddf27",
   "metadata": {},
   "outputs": [],
   "source": [
    "df_2015.head()"
   ]
  }
 ],
 "metadata": {
  "kernelspec": {
   "display_name": "Python 3 (ipykernel)",
   "language": "python",
   "name": "python3"
  },
  "language_info": {
   "codemirror_mode": {
    "name": "ipython",
    "version": 3
   },
   "file_extension": ".py",
   "mimetype": "text/x-python",
   "name": "python",
   "nbconvert_exporter": "python",
   "pygments_lexer": "ipython3",
   "version": "3.12.9"
  }
 },
 "nbformat": 4,
 "nbformat_minor": 5
}
