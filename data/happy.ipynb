{
 "cells": [
  {
   "cell_type": "code",
   "execution_count": 2,
   "id": "b2347638-5c72-43a2-a709-e1bd46c007c4",
   "metadata": {},
   "outputs": [],
   "source": [
    "import os\n",
    "import kagglehub\n",
    "import pandas as pd\n",
    "import numpy as np\n",
    "import matplotlib.pyplot as plt"
   ]
  },
  {
   "cell_type": "code",
   "execution_count": 3,
   "id": "77a8bdbb-347e-4316-93d5-3c704dc66879",
   "metadata": {},
   "outputs": [
    {
     "name": "stdout",
     "output_type": "stream",
     "text": [
      "Downloading from https://www.kaggle.com/api/v1/datasets/download/unsdsn/world-happiness?dataset_version_number=2...\n"
     ]
    },
    {
     "name": "stderr",
     "output_type": "stream",
     "text": [
      "100%|█████████████████████████████████████████████████████████████████████████| 36.8k/36.8k [00:00<00:00, 19.8MB/s]"
     ]
    },
    {
     "name": "stdout",
     "output_type": "stream",
     "text": [
      "Extracting files...\n",
      "Path to dataset files: /home/gitpod/.cache/kagglehub/datasets/unsdsn/world-happiness/versions/2\n"
     ]
    },
    {
     "name": "stderr",
     "output_type": "stream",
     "text": [
      "\n"
     ]
    }
   ],
   "source": [
    "# Download latest version\n",
    "path = kagglehub.dataset_download(\"unsdsn/world-happiness\")\n",
    "\n",
    "print(\"Path to dataset files:\", path)"
   ]
  },
  {
   "cell_type": "code",
   "execution_count": 16,
   "id": "1b9c0264-709f-4df8-bb79-fc7be322ac7c",
   "metadata": {},
   "outputs": [
    {
     "name": "stdout",
     "output_type": "stream",
     "text": [
      "Các tệp trong /home/gitpod/.cache/kagglehub/datasets/unsdsn/world-happiness/versions/2 gồm: \n",
      "2015.csv\n",
      "2016.csv\n",
      "2017.csv\n",
      "2018.csv\n",
      "2019.csv\n"
     ]
    }
   ],
   "source": [
    "# Xem trong thư mục có những tệp nào\n",
    "path = '/home/gitpod/.cache/kagglehub/datasets/unsdsn/world-happiness/versions/2'\n",
    "all_files = os.listdir(path)\n",
    "print(\"Các tệp trong /home/gitpod/.cache/kagglehub/datasets/unsdsn/world-happiness/versions/2 gồm: \")\n",
    "for i in all_files:\n",
    "    print(i)"
   ]
  },
  {
   "cell_type": "code",
   "execution_count": 78,
   "id": "22d8b735-adab-491d-ab10-11c8c3962b41",
   "metadata": {},
   "outputs": [],
   "source": [
    "# Đọc file csv bằng pd.read_csv\n",
    "raw_2015 = pd.read_csv('/home/gitpod/.cache/kagglehub/datasets/unsdsn/world-happiness/versions/2/2015.csv')\n",
    "raw_2016 = pd.read_csv('/home/gitpod/.cache/kagglehub/datasets/unsdsn/world-happiness/versions/2/2016.csv')\n",
    "raw_2017 = pd.read_csv('/home/gitpod/.cache/kagglehub/datasets/unsdsn/world-happiness/versions/2/2017.csv')"
   ]
  },
  {
   "cell_type": "markdown",
   "id": "1918aa24-d634-4b80-aa5f-1dfb34a534aa",
   "metadata": {},
   "source": [
    "# Happiness Score được tính toán dựa trên các chỉ số về:\n",
    "- Economy\n",
    "- Family\n",
    "- Health\n",
    "- Freedom\n",
    "- Trust\n",
    "- Generosity\n",
    "* HappinessScore = Economic(GDPpercap) + Family + Health + Freedom + Trust + Generosity + Dystopia Residual"
   ]
  },
  {
   "cell_type": "markdown",
   "id": "d1cfc484-9a80-40ca-9b98-4755265a6541",
   "metadata": {},
   "source": [
    "# .info()\n",
    "- 2015: 12 col, 158 row\n",
    "- 2016: 13 col, 157 row\n",
    "- 2017: 12 col, 155 row"
   ]
  },
  {
   "cell_type": "code",
   "execution_count": 91,
   "id": "1c8b725a-ae90-4139-8aeb-c2a3cd66612c",
   "metadata": {},
   "outputs": [
    {
     "ename": "TypeError",
     "evalue": "Index does not support mutable operations",
     "output_type": "error",
     "traceback": [
      "\u001b[0;31m---------------------------------------------------------------------------\u001b[0m",
      "\u001b[0;31mTypeError\u001b[0m                                 Traceback (most recent call last)",
      "Cell \u001b[0;32mIn[91], line 1\u001b[0m\n\u001b[0;32m----> 1\u001b[0m \u001b[43mraw_2017\u001b[49m\u001b[38;5;241;43m.\u001b[39;49m\u001b[43mcolumns\u001b[49m\u001b[43m[\u001b[49m\u001b[38;5;241;43m9\u001b[39;49m\u001b[43m]\u001b[49m, raw_2017\u001b[38;5;241m.\u001b[39mcolumns[\u001b[38;5;241m10\u001b[39m] \u001b[38;5;241m=\u001b[39m raw_2017\u001b[38;5;241m.\u001b[39mcolumns[\u001b[38;5;241m10\u001b[39m], raw_2017\u001b[38;5;241m.\u001b[39mcolumns[\u001b[38;5;241m9\u001b[39m]\n\u001b[1;32m      2\u001b[0m raw_2017 \u001b[38;5;241m=\u001b[39m raw_2017[columns]\n\u001b[1;32m      3\u001b[0m raw_2017\n",
      "File \u001b[0;32m~/.pyenv/versions/3.12.9/lib/python3.12/site-packages/pandas/core/indexes/base.py:5371\u001b[0m, in \u001b[0;36mIndex.__setitem__\u001b[0;34m(self, key, value)\u001b[0m\n\u001b[1;32m   5369\u001b[0m \u001b[38;5;129m@final\u001b[39m\n\u001b[1;32m   5370\u001b[0m \u001b[38;5;28;01mdef\u001b[39;00m\u001b[38;5;250m \u001b[39m\u001b[38;5;21m__setitem__\u001b[39m(\u001b[38;5;28mself\u001b[39m, key, value) \u001b[38;5;241m-\u001b[39m\u001b[38;5;241m>\u001b[39m \u001b[38;5;28;01mNone\u001b[39;00m:\n\u001b[0;32m-> 5371\u001b[0m     \u001b[38;5;28;01mraise\u001b[39;00m \u001b[38;5;167;01mTypeError\u001b[39;00m(\u001b[38;5;124m\"\u001b[39m\u001b[38;5;124mIndex does not support mutable operations\u001b[39m\u001b[38;5;124m\"\u001b[39m)\n",
      "\u001b[0;31mTypeError\u001b[0m: Index does not support mutable operations"
     ]
    }
   ],
   "source": [
    "raw_2017.columns[9], raw_2017.columns[10] = raw_2017.columns[10], raw_2017.columns[9]\n",
    "raw_2017 = raw_2017[columns]\n",
    "raw_2017\n"
   ]
  },
  {
   "cell_type": "code",
   "execution_count": 85,
   "id": "aa1d6301-52ea-4434-9e0e-7e0181ab6fd5",
   "metadata": {},
   "outputs": [],
   "source": [
    "# Tạo hàm để kiểm tra xem header của các bảng đã giống nhau chưa\n",
    "def is_same_header(df_list):\n",
    "    header = list(df_list[0].columns)\n",
    "    all_same = all(list(df.columns) == header for df in df_list)\n",
    "    return all_same"
   ]
  },
  {
   "cell_type": "code",
   "execution_count": 86,
   "id": "f8e7fdc2-bb3a-4768-ae49-fcb562fbf611",
   "metadata": {},
   "outputs": [
    {
     "data": {
      "text/plain": [
       "False"
      ]
     },
     "execution_count": 86,
     "metadata": {},
     "output_type": "execute_result"
    }
   ],
   "source": [
    "# Kiểm tra raw list xem đã có same header chưa?\n",
    "raw_list = [raw_2015, raw_2016, raw_2017]\n",
    "is_same_header(raw_list)"
   ]
  },
  {
   "cell_type": "code",
   "execution_count": 71,
   "id": "f3db9b01-1913-49ae-b3cf-2f8491738684",
   "metadata": {},
   "outputs": [],
   "source": [
    "# Tạo bảng mới chỉ gồm những cột mình cần\n",
    "new_header = ['Country', 'Happiness Rank', 'Happiness Score',\n",
    "      'Economy (GDP per Capita)', 'Family',\n",
    "       'Health (Life Expectancy)', 'Freedom', 'Trust (Government Corruption)',\n",
    "       'Generosity', 'Dystopia Residual']\n",
    "new_2015 = pd.DataFrame(raw_2015,columns = new_header)\n",
    "new_2016 = pd.DataFrame(raw_2016,columns = new_header)\n"
   ]
  },
  {
   "cell_type": "code",
   "execution_count": 80,
   "id": "c338c4e0-058c-47eb-8e97-b253ae51e4f4",
   "metadata": {},
   "outputs": [],
   "source": [
    "new_2017 = raw_2017.drop(['Whisker.high' ,\t'Whisker.low'], axis = 1)"
   ]
  },
  {
   "cell_type": "code",
   "execution_count": 87,
   "id": "3d25e3d6-5a90-440f-959f-05f266559f5e",
   "metadata": {},
   "outputs": [],
   "source": [
    "new_2017.columns = ['Country', 'Happiness Rank', 'Happiness Score',\n",
    "      'Economy (GDP per Capita)', 'Family',\n",
    "       'Health (Life Expectancy)', 'Freedom', 'Trust (Government Corruption)',\n",
    "       'Generosity', 'Dystopia Residual']"
   ]
  },
  {
   "cell_type": "code",
   "execution_count": 89,
   "id": "88fd7b7a-a1ff-4d8a-af69-d3b1cb0961b6",
   "metadata": {},
   "outputs": [
    {
     "data": {
      "text/plain": [
       "True"
      ]
     },
     "execution_count": 89,
     "metadata": {},
     "output_type": "execute_result"
    }
   ],
   "source": [
    "# Kiểm tra new list xem đã có same header chưa?\n",
    "new_list = [new_2015, new_2016, new_2017]\n",
    "is_same_header(new_list)"
   ]
  },
  {
   "cell_type": "code",
   "execution_count": null,
   "id": "57458d7b-7d7a-473a-8109-add27af84632",
   "metadata": {},
   "outputs": [],
   "source": []
  }
 ],
 "metadata": {
  "kernelspec": {
   "display_name": "Python 3 (ipykernel)",
   "language": "python",
   "name": "python3"
  },
  "language_info": {
   "codemirror_mode": {
    "name": "ipython",
    "version": 3
   },
   "file_extension": ".py",
   "mimetype": "text/x-python",
   "name": "python",
   "nbconvert_exporter": "python",
   "pygments_lexer": "ipython3",
   "version": "3.12.9"
  }
 },
 "nbformat": 4,
 "nbformat_minor": 5
}
