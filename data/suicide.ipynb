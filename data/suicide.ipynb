{
 "cells": [
  {
   "cell_type": "code",
   "execution_count": 1,
   "id": "00370a72-1997-45fc-b909-ab2a0a061678",
   "metadata": {},
   "outputs": [],
   "source": [
    "import numpy as np\n",
    "import pandas as pd\n",
    "import kagglehub\n",
    "import os"
   ]
  },
  {
   "cell_type": "code",
   "execution_count": 2,
   "id": "f886e2ce-1069-49b2-a7d2-3f06d0378cea",
   "metadata": {},
   "outputs": [
    {
     "name": "stdout",
     "output_type": "stream",
     "text": [
      "Downloading from https://www.kaggle.com/api/v1/datasets/download/russellyates88/suicide-rates-overview-1985-to-2016?dataset_version_number=1...\n"
     ]
    },
    {
     "name": "stderr",
     "output_type": "stream",
     "text": [
      "100%|█████████████████████████████████████████████████████████████████████████████████| 397k/397k [00:00<00:00, 64.8MB/s]"
     ]
    },
    {
     "name": "stdout",
     "output_type": "stream",
     "text": [
      "Extracting files...\n",
      "Path to dataset files: /home/gitpod/.cache/kagglehub/datasets/russellyates88/suicide-rates-overview-1985-to-2016/versions/1\n"
     ]
    },
    {
     "name": "stderr",
     "output_type": "stream",
     "text": [
      "\n"
     ]
    }
   ],
   "source": [
    "# Download latest version\n",
    "path = kagglehub.dataset_download(\"russellyates88/suicide-rates-overview-1985-to-2016\")\n",
    "print(\"Path to dataset files:\", path)"
   ]
  },
  {
   "cell_type": "code",
   "execution_count": 5,
   "id": "db1d8d3d-2403-4743-bd6a-1290edd1aebd",
   "metadata": {},
   "outputs": [
    {
     "name": "stdout",
     "output_type": "stream",
     "text": [
      "master.csv\n"
     ]
    }
   ],
   "source": [
    "file_path = '/home/gitpod/.cache/kagglehub/datasets/russellyates88/suicide-rates-overview-1985-to-2016/versions/1'\n",
    "all_files = os.listdir(file_path)\n",
    "for i in all_files:\n",
    "    print(i)"
   ]
  },
  {
   "cell_type": "code",
   "execution_count": 22,
   "id": "20805471-8b24-434c-ad24-5c9d3802fd8a",
   "metadata": {},
   "outputs": [],
   "source": [
    "suicide = pd.read_csv('/home/gitpod/.cache/kagglehub/datasets/russellyates88/suicide-rates-overview-1985-to-2016/versions/1/master.csv')"
   ]
  },
  {
   "cell_type": "code",
   "execution_count": 34,
   "id": "d04a280d-0033-46da-9394-248d97f296a7",
   "metadata": {},
   "outputs": [],
   "source": [
    "# Chọn hàng có giá trị cụ thể ở 1 label \n",
    "suicide_2000 = suicide[suicide['year'] == 2000]\n",
    "suicide[suicide['country'].str.startswith('D')]"
   ]
  },
  {
   "cell_type": "code",
   "execution_count": 49,
   "id": "89d47094-a99c-43c6-a04d-b7f67f34b3a9",
   "metadata": {},
   "outputs": [],
   "source": [
    "# Sắp xếp theo thứ tự cụ thể\n",
    "suicide_2000 = suicide_2000.sort_values(by='suicides/100k pop',ascending = False)"
   ]
  }
 ],
 "metadata": {
  "kernelspec": {
   "display_name": "Python 3 (ipykernel)",
   "language": "python",
   "name": "python3"
  },
  "language_info": {
   "codemirror_mode": {
    "name": "ipython",
    "version": 3
   },
   "file_extension": ".py",
   "mimetype": "text/x-python",
   "name": "python",
   "nbconvert_exporter": "python",
   "pygments_lexer": "ipython3",
   "version": "3.12.9"
  }
 },
 "nbformat": 4,
 "nbformat_minor": 5
}
