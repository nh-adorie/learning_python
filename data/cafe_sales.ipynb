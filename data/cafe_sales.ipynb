{
 "cells": [
  {
   "cell_type": "markdown",
   "id": "21852a3d-b94d-40b8-93cd-19f8321cd0fd",
   "metadata": {},
   "source": [
    "OBJECTIVES\n",
    "1. Clean the data:\n",
    "- Handle missing values ​​(null).\n",
    "- Standardize date formats.\n",
    "- Correct spelling errors in product or category names.\n",
    "- Convert data types appropriate for analysis.\n",
    "\n",
    "2. Analyze the data:\n",
    "- Calculate total revenue by day.\n",
    "- Identify best-selling products.\n",
    "\n",
    "3. Visualize the data:\n",
    "- Plot revenue by day.\n",
    "- Pie chart showing revenue percentage by product category."
   ]
  },
  {
   "cell_type": "code",
   "execution_count": 1,
   "id": "092fd1f6-ead7-47e3-8d33-4f23daa3c05f",
   "metadata": {},
   "outputs": [],
   "source": [
    "# Import needed libraries\n",
    "\n",
    "import kagglehub \n",
    "import pandas as pd\n",
    "import matplotlib.pyplot as plt\n",
    "import os\n",
    "import numpy as np"
   ]
  },
  {
   "cell_type": "code",
   "execution_count": 2,
   "id": "6dcae265-7aef-4145-a0ba-4e631cfef0f3",
   "metadata": {},
   "outputs": [
    {
     "name": "stdout",
     "output_type": "stream",
     "text": [
      "Path to dataset files: /home/gitpod/.cache/kagglehub/datasets/ahmedmohamed2003/cafe-sales-dirty-data-for-cleaning-training/versions/1\n"
     ]
    }
   ],
   "source": [
    "# Download latest version data from kagglehub\n",
    "\n",
    "path = kagglehub.dataset_download(\"ahmedmohamed2003/cafe-sales-dirty-data-for-cleaning-training\")\n",
    "print(\"Path to dataset files:\", path)"
   ]
  },
  {
   "cell_type": "code",
   "execution_count": 3,
   "id": "f5364d9d-50e7-4456-8c47-735c967a7548",
   "metadata": {},
   "outputs": [
    {
     "name": "stdout",
     "output_type": "stream",
     "text": [
      "This folder includes the following files:\n",
      "dirty_cafe_sales.csv\n"
     ]
    }
   ],
   "source": [
    "# Show list of files in kaggle hub folder\n",
    "\n",
    "file_path = '/home/gitpod/.cache/kagglehub/datasets/ahmedmohamed2003/cafe-sales-dirty-data-for-cleaning-training/versions/1'\n",
    "all_files = os.listdir(file_path)\n",
    "print('This folder includes the following files:')\n",
    "for file in all_files:\n",
    "    print(file)"
   ]
  },
  {
   "cell_type": "code",
   "execution_count": 84,
   "id": "f0791317-0021-423c-ad1b-7519c1249d09",
   "metadata": {},
   "outputs": [],
   "source": [
    "# Read csv file\n",
    "\n",
    "raw = pd.read_csv('/home/gitpod/.cache/kagglehub/datasets/ahmedmohamed2003/cafe-sales-dirty-data-for-cleaning-training/versions/1/dirty_cafe_sales.csv')"
   ]
  },
  {
   "cell_type": "code",
   "execution_count": 85,
   "id": "4634edb4-a129-438f-b49d-a9b2470e4d4e",
   "metadata": {},
   "outputs": [
    {
     "data": {
      "text/html": [
       "<div>\n",
       "<style scoped>\n",
       "    .dataframe tbody tr th:only-of-type {\n",
       "        vertical-align: middle;\n",
       "    }\n",
       "\n",
       "    .dataframe tbody tr th {\n",
       "        vertical-align: top;\n",
       "    }\n",
       "\n",
       "    .dataframe thead th {\n",
       "        text-align: right;\n",
       "    }\n",
       "</style>\n",
       "<table border=\"1\" class=\"dataframe\">\n",
       "  <thead>\n",
       "    <tr style=\"text-align: right;\">\n",
       "      <th></th>\n",
       "      <th>Transaction ID</th>\n",
       "      <th>Item</th>\n",
       "      <th>Quantity</th>\n",
       "      <th>Price Per Unit</th>\n",
       "      <th>Total Spent</th>\n",
       "      <th>Payment Method</th>\n",
       "      <th>Location</th>\n",
       "      <th>Transaction Date</th>\n",
       "    </tr>\n",
       "  </thead>\n",
       "  <tbody>\n",
       "    <tr>\n",
       "      <th>0</th>\n",
       "      <td>TXN_1961373</td>\n",
       "      <td>Coffee</td>\n",
       "      <td>2</td>\n",
       "      <td>2.0</td>\n",
       "      <td>4.0</td>\n",
       "      <td>Credit Card</td>\n",
       "      <td>Takeaway</td>\n",
       "      <td>2023-09-08</td>\n",
       "    </tr>\n",
       "    <tr>\n",
       "      <th>1</th>\n",
       "      <td>TXN_4977031</td>\n",
       "      <td>Cake</td>\n",
       "      <td>4</td>\n",
       "      <td>3.0</td>\n",
       "      <td>12.0</td>\n",
       "      <td>Cash</td>\n",
       "      <td>In-store</td>\n",
       "      <td>2023-05-16</td>\n",
       "    </tr>\n",
       "    <tr>\n",
       "      <th>2</th>\n",
       "      <td>TXN_4271903</td>\n",
       "      <td>Cookie</td>\n",
       "      <td>4</td>\n",
       "      <td>1.0</td>\n",
       "      <td>ERROR</td>\n",
       "      <td>Credit Card</td>\n",
       "      <td>In-store</td>\n",
       "      <td>2023-07-19</td>\n",
       "    </tr>\n",
       "    <tr>\n",
       "      <th>3</th>\n",
       "      <td>TXN_7034554</td>\n",
       "      <td>Salad</td>\n",
       "      <td>2</td>\n",
       "      <td>5.0</td>\n",
       "      <td>10.0</td>\n",
       "      <td>UNKNOWN</td>\n",
       "      <td>UNKNOWN</td>\n",
       "      <td>2023-04-27</td>\n",
       "    </tr>\n",
       "    <tr>\n",
       "      <th>4</th>\n",
       "      <td>TXN_3160411</td>\n",
       "      <td>Coffee</td>\n",
       "      <td>2</td>\n",
       "      <td>2.0</td>\n",
       "      <td>4.0</td>\n",
       "      <td>Digital Wallet</td>\n",
       "      <td>In-store</td>\n",
       "      <td>2023-06-11</td>\n",
       "    </tr>\n",
       "  </tbody>\n",
       "</table>\n",
       "</div>"
      ],
      "text/plain": [
       "  Transaction ID    Item Quantity Price Per Unit Total Spent  Payment Method  \\\n",
       "0    TXN_1961373  Coffee        2            2.0         4.0     Credit Card   \n",
       "1    TXN_4977031    Cake        4            3.0        12.0            Cash   \n",
       "2    TXN_4271903  Cookie        4            1.0       ERROR     Credit Card   \n",
       "3    TXN_7034554   Salad        2            5.0        10.0         UNKNOWN   \n",
       "4    TXN_3160411  Coffee        2            2.0         4.0  Digital Wallet   \n",
       "\n",
       "   Location Transaction Date  \n",
       "0  Takeaway       2023-09-08  \n",
       "1  In-store       2023-05-16  \n",
       "2  In-store       2023-07-19  \n",
       "3   UNKNOWN       2023-04-27  \n",
       "4  In-store       2023-06-11  "
      ]
     },
     "execution_count": 85,
     "metadata": {},
     "output_type": "execute_result"
    }
   ],
   "source": [
    "# Have a look throught the data\n",
    "\n",
    "raw.head()"
   ]
  },
  {
   "cell_type": "code",
   "execution_count": 86,
   "id": "a3d831c7-6a4f-4fe0-9169-25a96e5b2521",
   "metadata": {},
   "outputs": [
    {
     "name": "stdout",
     "output_type": "stream",
     "text": [
      "<class 'pandas.core.frame.DataFrame'>\n",
      "RangeIndex: 10000 entries, 0 to 9999\n",
      "Data columns (total 8 columns):\n",
      " #   Column            Non-Null Count  Dtype \n",
      "---  ------            --------------  ----- \n",
      " 0   Transaction ID    10000 non-null  object\n",
      " 1   Item              9667 non-null   object\n",
      " 2   Quantity          9862 non-null   object\n",
      " 3   Price Per Unit    9821 non-null   object\n",
      " 4   Total Spent       9827 non-null   object\n",
      " 5   Payment Method    7421 non-null   object\n",
      " 6   Location          6735 non-null   object\n",
      " 7   Transaction Date  9841 non-null   object\n",
      "dtypes: object(8)\n",
      "memory usage: 625.1+ KB\n"
     ]
    }
   ],
   "source": [
    "raw.info()"
   ]
  },
  {
   "cell_type": "code",
   "execution_count": 87,
   "id": "ca013793-ae88-468d-bf56-bc45340d7e5f",
   "metadata": {},
   "outputs": [],
   "source": [
    "# Change data type\n",
    "\n",
    "raw['Quantity'] = pd.to_numeric(raw['Quantity'], errors='coerce')\n",
    "raw['Price Per Unit'] = pd.to_numeric(raw['Price Per Unit'], errors='coerce')\n",
    "raw['Transaction Date'] = pd.to_datetime(raw['Transaction Date'], errors='coerce')\n",
    "\n",
    "# using error = coerce to change all Error data to NaN"
   ]
  },
  {
   "cell_type": "code",
   "execution_count": 114,
   "id": "06fc29e8-b2bc-4773-a95e-3ee4537960c1",
   "metadata": {},
   "outputs": [],
   "source": [
    "# Drop null and UNKNOWN from \"item'\n",
    "\n",
    "raw = raw[raw['Item'].notna()].copy()\n",
    "raw = raw[raw['Item'] != \"UNKNOWN\"]\n",
    "raw = raw[raw['Item'] != \"ERROR\"]"
   ]
  },
  {
   "cell_type": "code",
   "execution_count": 115,
   "id": "4043a53a-a29a-491e-b667-2475a193ebec",
   "metadata": {},
   "outputs": [
    {
     "data": {
      "text/plain": [
       "Transaction ID      0\n",
       "Item                0\n",
       "Quantity            0\n",
       "Price Per Unit      0\n",
       "Total Spent         0\n",
       "Payment Method      0\n",
       "Location            0\n",
       "Transaction Date    0\n",
       "dtype: int64"
      ]
     },
     "execution_count": 115,
     "metadata": {},
     "output_type": "execute_result"
    }
   ],
   "source": [
    "# Check how many null value in the dataframe\n",
    "\n",
    "raw.isnull().sum()"
   ]
  },
  {
   "cell_type": "code",
   "execution_count": 116,
   "id": "e5138fc2-4071-465d-a565-f06344c59053",
   "metadata": {},
   "outputs": [],
   "source": [
    "# After verifying each item (using raw[raw['Item'] == 'Cake'], etc ... ), \n",
    "# it is confirmed that each item has a unique value for 'Price per unit'.\n",
    "\n",
    "# There are 492 null in 'Price per unit' column.\n",
    "# which can be filled using the corresponding item's known price\n",
    "\n",
    "# Create a dictionary mapping each Item to its respective Price per unit."
   ]
  },
  {
   "cell_type": "code",
   "execution_count": 117,
   "id": "e20b7ea8-c3fa-4653-8c2d-a4e2168057e7",
   "metadata": {},
   "outputs": [],
   "source": [
    "item_to_price = {}\n",
    "for key, group in raw.groupby('Item'):\n",
    "    price = group['Price Per Unit'].dropna()  # price = value in column 'Price per unit' in group, dropna\n",
    "    item_to_price[key] = price.iloc[0]        # take the first values in series 'price' and save it to dictionary with the name key\n",
    "\n",
    "# When using for loop with .groupby, python return each loop with (key, group)\n",
    "# key is the unique item // group is the \"small\" dataframe for each unique item"
   ]
  },
  {
   "cell_type": "code",
   "execution_count": 118,
   "id": "1e1f99de-dc42-4a57-8192-9fa9c1e957d6",
   "metadata": {},
   "outputs": [
    {
     "name": "stdout",
     "output_type": "stream",
     "text": [
      "Price per Unit by Item\n"
     ]
    },
    {
     "data": {
      "text/plain": [
       "{'Cake': np.float64(3.0),\n",
       " 'Coffee': np.float64(2.0),\n",
       " 'Cookie': np.float64(1.0),\n",
       " 'Juice': np.float64(3.0),\n",
       " 'Salad': np.float64(5.0),\n",
       " 'Sandwich': np.float64(4.0),\n",
       " 'Smoothie': np.float64(4.0),\n",
       " 'Tea': np.float64(1.5)}"
      ]
     },
     "execution_count": 118,
     "metadata": {},
     "output_type": "execute_result"
    }
   ],
   "source": [
    "print('Price per Unit by Item',)\n",
    "item_to_price"
   ]
  },
  {
   "cell_type": "code",
   "execution_count": 119,
   "id": "e743772e-4785-4b9b-bfd0-09baebf23208",
   "metadata": {},
   "outputs": [],
   "source": [
    "# Fill in 'Price Per Unit' by mapping from the dictionary\n",
    "\n",
    "raw['Price Per Unit'] = raw['Price Per Unit'].fillna(raw['Item'].map(item_to_price))"
   ]
  },
  {
   "cell_type": "code",
   "execution_count": 120,
   "id": "053c3e96-4a3c-4a1c-b1ca-1bc61f1f2874",
   "metadata": {},
   "outputs": [],
   "source": [
    "# Drop null from 'Quantity' column\n",
    "\n",
    "raw = raw[raw['Quantity'].notna()].copy()"
   ]
  },
  {
   "cell_type": "code",
   "execution_count": 121,
   "id": "6275f813-f960-4c1d-9b87-17b1324da42f",
   "metadata": {},
   "outputs": [],
   "source": [
    "# Re calculate 'Total Spent' = 'Quantity' * 'Price Per Unit'\n",
    "\n",
    "raw['Total Spent'] = raw['Quantity'] * raw['Price Per Unit']"
   ]
  },
  {
   "cell_type": "code",
   "execution_count": 122,
   "id": "bc90dc4a-a4f8-469c-8780-18e1ac77ed72",
   "metadata": {},
   "outputs": [],
   "source": [
    "# Drop null and UNKNOWN from 'Payment Method' and 'Location'\n",
    "\n",
    "raw = raw[raw['Payment Method'].notna()].copy()\n",
    "raw = raw[raw['Payment Method'] != \"UNKNOWN\"]\n",
    "\n",
    "raw = raw[raw['Location'].notna()].copy()\n",
    "raw = raw[raw['Location'] != \"UNKNOWN\"]"
   ]
  },
  {
   "cell_type": "code",
   "execution_count": 123,
   "id": "98ded18f-b299-48e1-b22d-266128287d50",
   "metadata": {},
   "outputs": [],
   "source": [
    "# Fill down in 'Transaction Date'\n",
    "\n",
    "raw['Transaction Date'] = raw['Transaction Date'].ffill() # ffill replaces the null values with the value from the previous row"
   ]
  },
  {
   "cell_type": "code",
   "execution_count": 124,
   "id": "73c6be03-3ce4-4b2a-b8d6-7b2b7ed00234",
   "metadata": {},
   "outputs": [
    {
     "data": {
      "text/plain": [
       "Transaction ID      0\n",
       "Item                0\n",
       "Quantity            0\n",
       "Price Per Unit      0\n",
       "Total Spent         0\n",
       "Payment Method      0\n",
       "Location            0\n",
       "Transaction Date    0\n",
       "dtype: int64"
      ]
     },
     "execution_count": 124,
     "metadata": {},
     "output_type": "execute_result"
    }
   ],
   "source": [
    "# Check the null again\n",
    "\n",
    "raw.isnull().sum()"
   ]
  },
  {
   "cell_type": "code",
   "execution_count": 125,
   "id": "b4322874-2960-4df6-9326-cf136bc4ab81",
   "metadata": {},
   "outputs": [],
   "source": [
    "data=raw"
   ]
  },
  {
   "cell_type": "code",
   "execution_count": 151,
   "id": "176ffde1-a8a5-474f-be36-99a61f821ed8",
   "metadata": {},
   "outputs": [],
   "source": [
    "# color paletes used for vizualizing\n",
    "\n",
    "pastel_colors = [\n",
    "    \"#FFB3BA\",  # pastel red/pink\n",
    "    \"#FFDFBA\",  # pastel orange\n",
    "    \"#FFFFBA\",  # pastel yellow\n",
    "    \"#BAFFC9\",  # pastel green\n",
    "    \"#BAE1FF\",  # pastel blue\n",
    "    \"#E3BAFF\",  # pastel purple\n",
    "    \"#FFC9DE\",  # pastel rose\n",
    "    \"#D5F3FF\",  # light sky blue\n",
    "    \"#F0E3FF\",  # lavender\n",
    "    \"#C2F0FC\",  # soft cyan\n",
    "    \"#FCE1C3\",  # soft peach\n",
    "    \"#FADADD\"   # very light pink\n",
    "]"
   ]
  },
  {
   "cell_type": "markdown",
   "id": "3aeac717-01b3-47b3-bc2d-0ad4ec41a75c",
   "metadata": {
    "jp-MarkdownHeadingCollapsed": true
   },
   "source": [
    "## Calculate total revenue by day"
   ]
  },
  {
   "cell_type": "code",
   "execution_count": 126,
   "id": "e60b745a-6443-4a19-ab5e-36584bd8765c",
   "metadata": {},
   "outputs": [],
   "source": [
    "revenue_by_day = data.groupby('Transaction Date')['Total Spent'].sum().reset_index()"
   ]
  },
  {
   "cell_type": "code",
   "execution_count": 127,
   "id": "e62ba883-413d-45eb-af43-311dfdb90740",
   "metadata": {},
   "outputs": [],
   "source": [
    "revenue_by_day = revenue_by_day.rename(columns={'Total Spent': 'Revenue'})"
   ]
  },
  {
   "cell_type": "code",
   "execution_count": 128,
   "id": "146fef2f-3817-4a8f-8ab9-cd5fd97acf51",
   "metadata": {},
   "outputs": [
    {
     "data": {
      "text/html": [
       "<div>\n",
       "<style scoped>\n",
       "    .dataframe tbody tr th:only-of-type {\n",
       "        vertical-align: middle;\n",
       "    }\n",
       "\n",
       "    .dataframe tbody tr th {\n",
       "        vertical-align: top;\n",
       "    }\n",
       "\n",
       "    .dataframe thead th {\n",
       "        text-align: right;\n",
       "    }\n",
       "</style>\n",
       "<table border=\"1\" class=\"dataframe\">\n",
       "  <thead>\n",
       "    <tr style=\"text-align: right;\">\n",
       "      <th></th>\n",
       "      <th>Transaction Date</th>\n",
       "      <th>Revenue</th>\n",
       "    </tr>\n",
       "  </thead>\n",
       "  <tbody>\n",
       "    <tr>\n",
       "      <th>0</th>\n",
       "      <td>2023-01-01</td>\n",
       "      <td>131.5</td>\n",
       "    </tr>\n",
       "    <tr>\n",
       "      <th>1</th>\n",
       "      <td>2023-01-02</td>\n",
       "      <td>103.5</td>\n",
       "    </tr>\n",
       "    <tr>\n",
       "      <th>2</th>\n",
       "      <td>2023-01-03</td>\n",
       "      <td>96.0</td>\n",
       "    </tr>\n",
       "    <tr>\n",
       "      <th>3</th>\n",
       "      <td>2023-01-04</td>\n",
       "      <td>63.5</td>\n",
       "    </tr>\n",
       "    <tr>\n",
       "      <th>4</th>\n",
       "      <td>2023-01-05</td>\n",
       "      <td>211.0</td>\n",
       "    </tr>\n",
       "    <tr>\n",
       "      <th>...</th>\n",
       "      <td>...</td>\n",
       "      <td>...</td>\n",
       "    </tr>\n",
       "    <tr>\n",
       "      <th>360</th>\n",
       "      <td>2023-12-27</td>\n",
       "      <td>73.5</td>\n",
       "    </tr>\n",
       "    <tr>\n",
       "      <th>361</th>\n",
       "      <td>2023-12-28</td>\n",
       "      <td>106.5</td>\n",
       "    </tr>\n",
       "    <tr>\n",
       "      <th>362</th>\n",
       "      <td>2023-12-29</td>\n",
       "      <td>89.0</td>\n",
       "    </tr>\n",
       "    <tr>\n",
       "      <th>363</th>\n",
       "      <td>2023-12-30</td>\n",
       "      <td>68.0</td>\n",
       "    </tr>\n",
       "    <tr>\n",
       "      <th>364</th>\n",
       "      <td>2023-12-31</td>\n",
       "      <td>59.5</td>\n",
       "    </tr>\n",
       "  </tbody>\n",
       "</table>\n",
       "<p>365 rows × 2 columns</p>\n",
       "</div>"
      ],
      "text/plain": [
       "    Transaction Date  Revenue\n",
       "0         2023-01-01    131.5\n",
       "1         2023-01-02    103.5\n",
       "2         2023-01-03     96.0\n",
       "3         2023-01-04     63.5\n",
       "4         2023-01-05    211.0\n",
       "..               ...      ...\n",
       "360       2023-12-27     73.5\n",
       "361       2023-12-28    106.5\n",
       "362       2023-12-29     89.0\n",
       "363       2023-12-30     68.0\n",
       "364       2023-12-31     59.5\n",
       "\n",
       "[365 rows x 2 columns]"
      ]
     },
     "execution_count": 128,
     "metadata": {},
     "output_type": "execute_result"
    }
   ],
   "source": [
    "revenue_by_day.sort_values(by = 'Transaction Date')"
   ]
  },
  {
   "cell_type": "code",
   "execution_count": 186,
   "id": "6be6bb0f-de97-47e4-ab50-395fc595a006",
   "metadata": {},
   "outputs": [
    {
     "data": {
      "image/png": "[encoded data removed]",
      "text/plain": [
       "<Figure size 800x300 with 1 Axes>"
      ]
     },
     "metadata": {},
     "output_type": "display_data"
    }
   ],
   "source": [
    "fig = plt.subplots(figsize = (8,3))\n",
    "plt.plot(\n",
    "    revenue_by_day['Transaction Date'], \n",
    "    revenue_by_day['Revenue'],\n",
    "    color = '#FCE1C3'\n",
    ")\n",
    "plt.title('Revenue by day', fontsize=16)\n",
    "plt.xlabel('Transaction Date')\n",
    "plt.ylabel('Revenue')\n",
    "\n",
    "plt.show()"
   ]
  },
  {
   "cell_type": "markdown",
   "id": "633a8c17-92e1-4aad-bfcb-96948916c8e2",
   "metadata": {},
   "source": [
    "## Identify best-selling products"
   ]
  },
  {
   "cell_type": "code",
   "execution_count": 143,
   "id": "86626f19-f362-45bd-944b-420ae0bf201d",
   "metadata": {},
   "outputs": [],
   "source": [
    "best_selling_product = data.groupby('Item')['Total Spent'].sum().reset_index()"
   ]
  },
  {
   "cell_type": "code",
   "execution_count": 148,
   "id": "db85a45a-69d3-4946-9987-0cef50dc6a72",
   "metadata": {},
   "outputs": [
    {
     "data": {
      "text/html": [
       "<div>\n",
       "<style scoped>\n",
       "    .dataframe tbody tr th:only-of-type {\n",
       "        vertical-align: middle;\n",
       "    }\n",
       "\n",
       "    .dataframe tbody tr th {\n",
       "        vertical-align: top;\n",
       "    }\n",
       "\n",
       "    .dataframe thead th {\n",
       "        text-align: right;\n",
       "    }\n",
       "</style>\n",
       "<table border=\"1\" class=\"dataframe\">\n",
       "  <thead>\n",
       "    <tr style=\"text-align: right;\">\n",
       "      <th></th>\n",
       "      <th>Item</th>\n",
       "      <th>Total Spent</th>\n",
       "    </tr>\n",
       "  </thead>\n",
       "  <tbody>\n",
       "    <tr>\n",
       "      <th>0</th>\n",
       "      <td>Salad</td>\n",
       "      <td>7985.0</td>\n",
       "    </tr>\n",
       "    <tr>\n",
       "      <th>1</th>\n",
       "      <td>Sandwich</td>\n",
       "      <td>6196.0</td>\n",
       "    </tr>\n",
       "    <tr>\n",
       "      <th>2</th>\n",
       "      <td>Smoothie</td>\n",
       "      <td>5536.0</td>\n",
       "    </tr>\n",
       "    <tr>\n",
       "      <th>3</th>\n",
       "      <td>Juice</td>\n",
       "      <td>4647.0</td>\n",
       "    </tr>\n",
       "    <tr>\n",
       "      <th>4</th>\n",
       "      <td>Cake</td>\n",
       "      <td>4581.0</td>\n",
       "    </tr>\n",
       "    <tr>\n",
       "      <th>5</th>\n",
       "      <td>Coffee</td>\n",
       "      <td>2786.0</td>\n",
       "    </tr>\n",
       "    <tr>\n",
       "      <th>6</th>\n",
       "      <td>Tea</td>\n",
       "      <td>2209.5</td>\n",
       "    </tr>\n",
       "    <tr>\n",
       "      <th>7</th>\n",
       "      <td>Cookie</td>\n",
       "      <td>1530.0</td>\n",
       "    </tr>\n",
       "  </tbody>\n",
       "</table>\n",
       "</div>"
      ],
      "text/plain": [
       "       Item  Total Spent\n",
       "0     Salad       7985.0\n",
       "1  Sandwich       6196.0\n",
       "2  Smoothie       5536.0\n",
       "3     Juice       4647.0\n",
       "4      Cake       4581.0\n",
       "5    Coffee       2786.0\n",
       "6       Tea       2209.5\n",
       "7    Cookie       1530.0"
      ]
     },
     "execution_count": 148,
     "metadata": {},
     "output_type": "execute_result"
    }
   ],
   "source": [
    "best_selling_product.sort_values(by = 'Total Spent', ascending = False).reset_index(drop=True)"
   ]
  },
  {
   "cell_type": "code",
   "execution_count": 179,
   "id": "c153c85c-d907-42f7-a23e-3960c8897286",
   "metadata": {},
   "outputs": [
    {
     "data": {
      "image/png": "[encoded data removed]",
      "text/plain": [
       "<Figure size 500x500 with 1 Axes>"
      ]
     },
     "metadata": {},
     "output_type": "display_data"
    }
   ],
   "source": [
    "fig = plt.subplots(figsize = (5,5))\n",
    "plt.pie(\n",
    "    best_selling_product['Total Spent'],\n",
    "    colors = pastel_colors,\n",
    "    labels = best_selling_product['Item'],\n",
    "    autopct = '%1.1f%%',\n",
    "    startangle=90,\n",
    "    pctdistance=0.8\n",
    ")\n",
    "\n",
    "plt.title('Revenue percentage by product category',fontsize = 14)\n",
    "plt.show()"
   ]
  },
  {
   "cell_type": "code",
   "execution_count": null,
   "id": "fcbafe13-b0f9-47cd-a136-864d4dfdcd85",
   "metadata": {},
   "outputs": [],
   "source": [
    "#"
   ]
  }
 ],
 "metadata": {
  "kernelspec": {
   "display_name": "Python 3 (ipykernel)",
   "language": "python",
   "name": "python3"
  },
  "language_info": {
   "codemirror_mode": {
    "name": "ipython",
    "version": 3
   },
   "file_extension": ".py",
   "mimetype": "text/x-python",
   "name": "python",
   "nbconvert_exporter": "python",
   "pygments_lexer": "ipython3",
   "version": "3.12.9"
  }
 },
 "nbformat": 4,
 "nbformat_minor": 5
}
