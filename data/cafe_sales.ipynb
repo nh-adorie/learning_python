{
 "cells": [
  {
   "cell_type": "markdown",
   "id": "21852a3d-b94d-40b8-93cd-19f8321cd0fd",
   "metadata": {},
   "source": [
    "## OBJECTIVES\n",
    "1. Clean the data:\n",
    "- Handle missing values ​​(null).\n",
    "- Standardize date formats.\n",
    "- Correct spelling errors in product or category names.\n",
    "- Convert data types appropriate for analysis.\n",
    "\n",
    "2. Analyze the data:\n",
    "- Calculate total revenue by day.\n",
    "- Identify best-selling products.\n",
    "- Analyze revenue by time frame of day.\n",
    "- Calculate average number of products sold per transaction.\n",
    "\n",
    "3. Visualize the data:\n",
    "- Plot revenue by day.\n",
    "- Column chart for top 5 best-selling products.\n",
    "- Pie chart showing revenue percentage by product category."
   ]
  },
  {
   "cell_type": "code",
   "execution_count": 1,
   "id": "092fd1f6-ead7-47e3-8d33-4f23daa3c05f",
   "metadata": {},
   "outputs": [],
   "source": [
    "# Import needed libraries\n",
    "\n",
    "import kagglehub \n",
    "import pandas as pd\n",
    "import matplotlib.pyplot as plt\n",
    "import os\n",
    "import numpy as np"
   ]
  },
  {
   "cell_type": "code",
   "execution_count": 2,
   "id": "6dcae265-7aef-4145-a0ba-4e631cfef0f3",
   "metadata": {},
   "outputs": [
    {
     "name": "stdout",
     "output_type": "stream",
     "text": [
      "Downloading from https://www.kaggle.com/api/v1/datasets/download/ahmedmohamed2003/cafe-sales-dirty-data-for-cleaning-training?dataset_version_number=1...\n"
     ]
    },
    {
     "name": "stderr",
     "output_type": "stream",
     "text": [
      "100%|█████████████████████████████████████████████████████████████████████████████████| 111k/111k [00:00<00:00, 6.34MB/s]"
     ]
    },
    {
     "name": "stdout",
     "output_type": "stream",
     "text": [
      "Extracting files...\n",
      "Path to dataset files: /home/gitpod/.cache/kagglehub/datasets/ahmedmohamed2003/cafe-sales-dirty-data-for-cleaning-training/versions/1\n"
     ]
    },
    {
     "name": "stderr",
     "output_type": "stream",
     "text": [
      "\n"
     ]
    }
   ],
   "source": [
    "# Download latest version data from kagglehub\n",
    "path = kagglehub.dataset_download(\"ahmedmohamed2003/cafe-sales-dirty-data-for-cleaning-training\")\n",
    "print(\"Path to dataset files:\", path)"
   ]
  },
  {
   "cell_type": "code",
   "execution_count": 3,
   "id": "f5364d9d-50e7-4456-8c47-735c967a7548",
   "metadata": {},
   "outputs": [
    {
     "name": "stdout",
     "output_type": "stream",
     "text": [
      "This folder includes the following files:\n",
      "dirty_cafe_sales.csv\n"
     ]
    }
   ],
   "source": [
    "# Show list of files in kaggle hub folder\n",
    "\n",
    "file_path = '/home/gitpod/.cache/kagglehub/datasets/ahmedmohamed2003/cafe-sales-dirty-data-for-cleaning-training/versions/1'\n",
    "all_files = os.listdir(file_path)\n",
    "print('This folder includes the following files:')\n",
    "for file in all_files:\n",
    "    print(file)"
   ]
  },
  {
   "cell_type": "code",
   "execution_count": 5,
   "id": "f0791317-0021-423c-ad1b-7519c1249d09",
   "metadata": {},
   "outputs": [],
   "source": [
    "# Read csv file\n",
    "\n",
    "raw = pd.read_csv('/home/gitpod/.cache/kagglehub/datasets/ahmedmohamed2003/cafe-sales-dirty-data-for-cleaning-training/versions/1/dirty_cafe_sales.csv')"
   ]
  },
  {
   "cell_type": "code",
   "execution_count": 7,
   "id": "4634edb4-a129-438f-b49d-a9b2470e4d4e",
   "metadata": {},
   "outputs": [
    {
     "data": {
      "text/html": [
       "<div>\n",
       "<style scoped>\n",
       "    .dataframe tbody tr th:only-of-type {\n",
       "        vertical-align: middle;\n",
       "    }\n",
       "\n",
       "    .dataframe tbody tr th {\n",
       "        vertical-align: top;\n",
       "    }\n",
       "\n",
       "    .dataframe thead th {\n",
       "        text-align: right;\n",
       "    }\n",
       "</style>\n",
       "<table border=\"1\" class=\"dataframe\">\n",
       "  <thead>\n",
       "    <tr style=\"text-align: right;\">\n",
       "      <th></th>\n",
       "      <th>Transaction ID</th>\n",
       "      <th>Item</th>\n",
       "      <th>Quantity</th>\n",
       "      <th>Price Per Unit</th>\n",
       "      <th>Total Spent</th>\n",
       "      <th>Payment Method</th>\n",
       "      <th>Location</th>\n",
       "      <th>Transaction Date</th>\n",
       "    </tr>\n",
       "  </thead>\n",
       "  <tbody>\n",
       "    <tr>\n",
       "      <th>0</th>\n",
       "      <td>TXN_1961373</td>\n",
       "      <td>Coffee</td>\n",
       "      <td>2</td>\n",
       "      <td>2.0</td>\n",
       "      <td>4.0</td>\n",
       "      <td>Credit Card</td>\n",
       "      <td>Takeaway</td>\n",
       "      <td>2023-09-08</td>\n",
       "    </tr>\n",
       "    <tr>\n",
       "      <th>1</th>\n",
       "      <td>TXN_4977031</td>\n",
       "      <td>Cake</td>\n",
       "      <td>4</td>\n",
       "      <td>3.0</td>\n",
       "      <td>12.0</td>\n",
       "      <td>Cash</td>\n",
       "      <td>In-store</td>\n",
       "      <td>2023-05-16</td>\n",
       "    </tr>\n",
       "    <tr>\n",
       "      <th>2</th>\n",
       "      <td>TXN_4271903</td>\n",
       "      <td>Cookie</td>\n",
       "      <td>4</td>\n",
       "      <td>1.0</td>\n",
       "      <td>ERROR</td>\n",
       "      <td>Credit Card</td>\n",
       "      <td>In-store</td>\n",
       "      <td>2023-07-19</td>\n",
       "    </tr>\n",
       "    <tr>\n",
       "      <th>3</th>\n",
       "      <td>TXN_7034554</td>\n",
       "      <td>Salad</td>\n",
       "      <td>2</td>\n",
       "      <td>5.0</td>\n",
       "      <td>10.0</td>\n",
       "      <td>UNKNOWN</td>\n",
       "      <td>UNKNOWN</td>\n",
       "      <td>2023-04-27</td>\n",
       "    </tr>\n",
       "    <tr>\n",
       "      <th>4</th>\n",
       "      <td>TXN_3160411</td>\n",
       "      <td>Coffee</td>\n",
       "      <td>2</td>\n",
       "      <td>2.0</td>\n",
       "      <td>4.0</td>\n",
       "      <td>Digital Wallet</td>\n",
       "      <td>In-store</td>\n",
       "      <td>2023-06-11</td>\n",
       "    </tr>\n",
       "  </tbody>\n",
       "</table>\n",
       "</div>"
      ],
      "text/plain": [
       "  Transaction ID    Item Quantity Price Per Unit Total Spent  Payment Method  \\\n",
       "0    TXN_1961373  Coffee        2            2.0         4.0     Credit Card   \n",
       "1    TXN_4977031    Cake        4            3.0        12.0            Cash   \n",
       "2    TXN_4271903  Cookie        4            1.0       ERROR     Credit Card   \n",
       "3    TXN_7034554   Salad        2            5.0        10.0         UNKNOWN   \n",
       "4    TXN_3160411  Coffee        2            2.0         4.0  Digital Wallet   \n",
       "\n",
       "   Location Transaction Date  \n",
       "0  Takeaway       2023-09-08  \n",
       "1  In-store       2023-05-16  \n",
       "2  In-store       2023-07-19  \n",
       "3   UNKNOWN       2023-04-27  \n",
       "4  In-store       2023-06-11  "
      ]
     },
     "execution_count": 7,
     "metadata": {},
     "output_type": "execute_result"
    }
   ],
   "source": [
    "# Have a look throught the dataframe\n",
    "\n",
    "raw.head()"
   ]
  },
  {
   "cell_type": "code",
   "execution_count": 8,
   "id": "a3d831c7-6a4f-4fe0-9169-25a96e5b2521",
   "metadata": {},
   "outputs": [
    {
     "name": "stdout",
     "output_type": "stream",
     "text": [
      "<class 'pandas.core.frame.DataFrame'>\n",
      "RangeIndex: 10000 entries, 0 to 9999\n",
      "Data columns (total 8 columns):\n",
      " #   Column            Non-Null Count  Dtype \n",
      "---  ------            --------------  ----- \n",
      " 0   Transaction ID    10000 non-null  object\n",
      " 1   Item              9667 non-null   object\n",
      " 2   Quantity          9862 non-null   object\n",
      " 3   Price Per Unit    9821 non-null   object\n",
      " 4   Total Spent       9827 non-null   object\n",
      " 5   Payment Method    7421 non-null   object\n",
      " 6   Location          6735 non-null   object\n",
      " 7   Transaction Date  9841 non-null   object\n",
      "dtypes: object(8)\n",
      "memory usage: 625.1+ KB\n"
     ]
    }
   ],
   "source": [
    "raw.info()"
   ]
  },
  {
   "cell_type": "code",
   "execution_count": 13,
   "id": "ca013793-ae88-468d-bf56-bc45340d7e5f",
   "metadata": {},
   "outputs": [],
   "source": [
    "# Change data type\n",
    "\n",
    "raw['Quantity'] = pd.to_numeric(raw['Quantity'], errors='coerce')\n",
    "raw['Price Per Unit'] = pd.to_numeric(raw['Price Per Unit'], errors='coerce')\n",
    "raw['Transaction Date'] = pd.to_datetime(raw['Transaction Date'], errors='coerce')\n",
    "\n",
    "# error = coerce to change all Error data to NaN"
   ]
  },
  {
   "cell_type": "code",
   "execution_count": 15,
   "id": "4043a53a-a29a-491e-b667-2475a193ebec",
   "metadata": {},
   "outputs": [
    {
     "data": {
      "text/plain": [
       "Transaction ID         0\n",
       "Item                 333\n",
       "Quantity             479\n",
       "Price Per Unit       533\n",
       "Total Spent          502\n",
       "Payment Method      2579\n",
       "Location            3265\n",
       "Transaction Date     460\n",
       "dtype: int64"
      ]
     },
     "execution_count": 15,
     "metadata": {},
     "output_type": "execute_result"
    }
   ],
   "source": [
    "# Check if there are NaN value in the dataframe\n",
    "\n",
    "raw.isna().sum()"
   ]
  },
  {
   "cell_type": "code",
   "execution_count": 27,
   "id": "c011723f-5afc-4393-a748-9f3003383372",
   "metadata": {},
   "outputs": [],
   "source": [
    "# Drop NaN in Item \n",
    "\n",
    "raw = raw.dropna(subset = ['Item'])"
   ]
  },
  {
   "cell_type": "code",
   "execution_count": 31,
   "id": "8c441f60-9070-4ea3-85ec-a37b47cc6f1c",
   "metadata": {},
   "outputs": [],
   "source": [
    "# Drop UNKOWN in Item \n",
    "\n",
    "raw = raw[raw['Item'] != \"UNKNOWN\"]"
   ]
  },
  {
   "cell_type": "code",
   "execution_count": 32,
   "id": "e5138fc2-4071-465d-a565-f06344c59053",
   "metadata": {},
   "outputs": [],
   "source": [
    "# After verifying each item (using raw[raw['Item'] == 'Cake'], etc ... ), \n",
    "# it is confirmed that each item has a unique value for 'Price per unit'.\n",
    "\n",
    "# There are 533 NaN in the 'Price per unit' column, \n",
    "# which can be filled using the corresponding item's known price.\n",
    "\n",
    "# Create a dictionary mapping each Item to its respective Price per unit."
   ]
  },
  {
   "cell_type": "code",
   "execution_count": 33,
   "id": "08ea6e33-72fb-4e4e-b73e-5d5b54cadbf9",
   "metadata": {},
   "outputs": [],
   "source": [
    "raw_copy = raw.copy()"
   ]
  },
  {
   "cell_type": "code",
   "execution_count": 34,
   "id": "e20b7ea8-c3fa-4653-8c2d-a4e2168057e7",
   "metadata": {},
   "outputs": [],
   "source": [
    "item_to_price = {}\n",
    "for item, group in raw_copy.groupby('Item'):\n",
    "    price = group['Price Per Unit'].dropna()\n",
    "    item_to_price[item] = price.iloc[0]\n",
    "\n",
    "# When using for loop with .groupby, python return each loop with (key, group)\n",
    "# "
   ]
  },
  {
   "cell_type": "code",
   "execution_count": 35,
   "id": "1e1f99de-dc42-4a57-8192-9fa9c1e957d6",
   "metadata": {},
   "outputs": [
    {
     "data": {
      "text/plain": [
       "{'Cake': np.float64(3.0),\n",
       " 'Coffee': np.float64(2.0),\n",
       " 'Cookie': np.float64(1.0),\n",
       " 'ERROR': np.float64(1.5),\n",
       " 'Juice': np.float64(3.0),\n",
       " 'Salad': np.float64(5.0),\n",
       " 'Sandwich': np.float64(4.0),\n",
       " 'Smoothie': np.float64(4.0),\n",
       " 'Tea': np.float64(1.5)}"
      ]
     },
     "execution_count": 35,
     "metadata": {},
     "output_type": "execute_result"
    }
   ],
   "source": [
    "item_to_price"
   ]
  }
 ],
 "metadata": {
  "kernelspec": {
   "display_name": "Python 3 (ipykernel)",
   "language": "python",
   "name": "python3"
  },
  "language_info": {
   "codemirror_mode": {
    "name": "ipython",
    "version": 3
   },
   "file_extension": ".py",
   "mimetype": "text/x-python",
   "name": "python",
   "nbconvert_exporter": "python",
   "pygments_lexer": "ipython3",
   "version": "3.12.9"
  }
 },
 "nbformat": 4,
 "nbformat_minor": 5
}
