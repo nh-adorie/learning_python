{
 "cells": [
  {
   "cell_type": "markdown",
   "id": "b318d80a-2076-487c-aa83-d844cca86fdd",
   "metadata": {},
   "source": [
    "## Preparation"
   ]
  },
  {
   "cell_type": "code",
   "execution_count": 5,
   "id": "5552910e-32fb-4c55-ac05-0eab591e4251",
   "metadata": {},
   "outputs": [],
   "source": [
    "import pandas as pd\n",
    "import kagglehub \n",
    "import matplotlib.pyplot as plt\n",
    "import os\n",
    "import plotly.express as px"
   ]
  },
  {
   "cell_type": "code",
   "execution_count": 6,
   "id": "7109267a-f288-405c-a80a-810435b7b775",
   "metadata": {},
   "outputs": [
    {
     "name": "stdout",
     "output_type": "stream",
     "text": [
      "Downloading from https://www.kaggle.com/api/v1/datasets/download/kyanyoga/sample-sales-data?dataset_version_number=1...\n"
     ]
    },
    {
     "name": "stderr",
     "output_type": "stream",
     "text": [
      "100%|███████████████████████████████████████████████████████████████████████████████| 77.5k/77.5k [00:00<00:00, 25.5MB/s]"
     ]
    },
    {
     "name": "stdout",
     "output_type": "stream",
     "text": [
      "Extracting files...\n",
      "Path to dataset files: /home/gitpod/.cache/kagglehub/datasets/kyanyoga/sample-sales-data/versions/1\n"
     ]
    },
    {
     "name": "stderr",
     "output_type": "stream",
     "text": [
      "\n"
     ]
    }
   ],
   "source": [
    "# Download latest version\n",
    "path = kagglehub.dataset_download(\"kyanyoga/sample-sales-data\")\n",
    "\n",
    "print(\"Path to dataset files:\", path)"
   ]
  },
  {
   "cell_type": "code",
   "execution_count": 7,
   "id": "e7c8a77e-565f-4ba6-b0f7-6679a6e00ce2",
   "metadata": {},
   "outputs": [
    {
     "name": "stdout",
     "output_type": "stream",
     "text": [
      "sales_data_sample.csv\n"
     ]
    }
   ],
   "source": [
    "all_files = os.listdir('/home/gitpod/.cache/kagglehub/datasets/kyanyoga/sample-sales-data/versions/1')\n",
    "for file in all_files:\n",
    "    print(file)"
   ]
  },
  {
   "cell_type": "code",
   "execution_count": 23,
   "id": "db89655a-095c-49fe-a41f-edc09a5d787b",
   "metadata": {},
   "outputs": [],
   "source": [
    "raw = pd.read_csv(\n",
    "    '/home/gitpod/.cache/kagglehub/datasets/kyanyoga/sample-sales-data/versions/1/sales_data_sample.csv',\n",
    "    encoding='latin1'\n",
    ")"
   ]
  },
  {
   "cell_type": "markdown",
   "id": "6349f3e4-14bd-44e4-bdfd-d26b68cfcb6c",
   "metadata": {},
   "source": [
    "## Explore the data"
   ]
  },
  {
   "cell_type": "code",
   "execution_count": 24,
   "id": "bdf91ad4-2689-4889-b909-42c576dc4f09",
   "metadata": {},
   "outputs": [],
   "source": [
    "# Drop unnecessary columns\n",
    "\n",
    "to_drop = ['ADDRESSLINE1','ADDRESSLINE2','STATE','POSTALCODE','TERRITORY','PHONE','CONTACTLASTNAME','CONTACTFIRSTNAME']\n",
    "raw = raw.drop(to_drop, axis = 1)"
   ]
  },
  {
   "cell_type": "code",
   "execution_count": 26,
   "id": "63fef34e-9db9-49cf-839b-4e8f2d461deb",
   "metadata": {},
   "outputs": [],
   "source": [
    "# Change data type of ORDERDATE to datetime type\n",
    "\n",
    "raw['ORDERDATE'] = pd.to_datetime(raw['ORDERDATE'])"
   ]
  },
  {
   "cell_type": "code",
   "execution_count": 56,
   "id": "736754bb-93c9-435e-8d78-4baa305a35c3",
   "metadata": {},
   "outputs": [
    {
     "data": {
      "text/html": [
       "<style type=\"text/css\">\n",
       "#T_c9233_row0_col0, #T_c9233_row0_col1, #T_c9233_row0_col3, #T_c9233_row7_col2 {\n",
       "  background-color: #08306b;\n",
       "  color: #f1f1f1;\n",
       "}\n",
       "#T_c9233_row0_col2 {\n",
       "  background-color: #d5e5f4;\n",
       "  color: #000000;\n",
       "}\n",
       "#T_c9233_row1_col0, #T_c9233_row5_col0 {\n",
       "  background-color: #f5fafe;\n",
       "  color: #000000;\n",
       "}\n",
       "#T_c9233_row1_col1 {\n",
       "  background-color: #f3f8fe;\n",
       "  color: #000000;\n",
       "}\n",
       "#T_c9233_row1_col2 {\n",
       "  background-color: #cbdef1;\n",
       "  color: #000000;\n",
       "}\n",
       "#T_c9233_row1_col3, #T_c9233_row5_col1, #T_c9233_row5_col3 {\n",
       "  background-color: #f2f8fd;\n",
       "  color: #000000;\n",
       "}\n",
       "#T_c9233_row2_col0, #T_c9233_row2_col1, #T_c9233_row2_col3, #T_c9233_row3_col0, #T_c9233_row3_col1, #T_c9233_row3_col2, #T_c9233_row3_col3 {\n",
       "  background-color: #f7fbff;\n",
       "  color: #000000;\n",
       "}\n",
       "#T_c9233_row2_col2 {\n",
       "  background-color: #e3eef9;\n",
       "  color: #000000;\n",
       "}\n",
       "#T_c9233_row4_col0 {\n",
       "  background-color: #f6faff;\n",
       "  color: #000000;\n",
       "}\n",
       "#T_c9233_row4_col1 {\n",
       "  background-color: #f4f9fe;\n",
       "  color: #000000;\n",
       "}\n",
       "#T_c9233_row4_col2 {\n",
       "  background-color: #deebf7;\n",
       "  color: #000000;\n",
       "}\n",
       "#T_c9233_row4_col3, #T_c9233_row6_col0 {\n",
       "  background-color: #f5f9fe;\n",
       "  color: #000000;\n",
       "}\n",
       "#T_c9233_row5_col2 {\n",
       "  background-color: #d0e2f2;\n",
       "  color: #000000;\n",
       "}\n",
       "#T_c9233_row6_col1, #T_c9233_row7_col1 {\n",
       "  background-color: #f2f7fd;\n",
       "  color: #000000;\n",
       "}\n",
       "#T_c9233_row6_col2 {\n",
       "  background-color: #b8d5ea;\n",
       "  color: #000000;\n",
       "}\n",
       "#T_c9233_row6_col3, #T_c9233_row7_col0 {\n",
       "  background-color: #f1f7fd;\n",
       "  color: #000000;\n",
       "}\n",
       "#T_c9233_row7_col3 {\n",
       "  background-color: #eaf3fb;\n",
       "  color: #000000;\n",
       "}\n",
       "</style>\n",
       "<table id=\"T_c9233\">\n",
       "  <thead>\n",
       "    <tr>\n",
       "      <th class=\"blank level0\" >&nbsp;</th>\n",
       "      <th id=\"T_c9233_level0_col0\" class=\"col_heading level0 col0\" >QUANTITYORDERED</th>\n",
       "      <th id=\"T_c9233_level0_col1\" class=\"col_heading level0 col1\" >PRICEEACH</th>\n",
       "      <th id=\"T_c9233_level0_col2\" class=\"col_heading level0 col2\" >SALES</th>\n",
       "      <th id=\"T_c9233_level0_col3\" class=\"col_heading level0 col3\" >MSRP</th>\n",
       "    </tr>\n",
       "  </thead>\n",
       "  <tbody>\n",
       "    <tr>\n",
       "      <th id=\"T_c9233_level0_row0\" class=\"row_heading level0 row0\" >count</th>\n",
       "      <td id=\"T_c9233_row0_col0\" class=\"data row0 col0\" >2823.000000</td>\n",
       "      <td id=\"T_c9233_row0_col1\" class=\"data row0 col1\" >2823.000000</td>\n",
       "      <td id=\"T_c9233_row0_col2\" class=\"data row0 col2\" >2823.000000</td>\n",
       "      <td id=\"T_c9233_row0_col3\" class=\"data row0 col3\" >2823.000000</td>\n",
       "    </tr>\n",
       "    <tr>\n",
       "      <th id=\"T_c9233_level0_row1\" class=\"row_heading level0 row1\" >mean</th>\n",
       "      <td id=\"T_c9233_row1_col0\" class=\"data row1 col0\" >35.092809</td>\n",
       "      <td id=\"T_c9233_row1_col1\" class=\"data row1 col1\" >83.658544</td>\n",
       "      <td id=\"T_c9233_row1_col2\" class=\"data row1 col2\" >3553.889072</td>\n",
       "      <td id=\"T_c9233_row1_col3\" class=\"data row1 col3\" >100.715551</td>\n",
       "    </tr>\n",
       "    <tr>\n",
       "      <th id=\"T_c9233_level0_row2\" class=\"row_heading level0 row2\" >std</th>\n",
       "      <td id=\"T_c9233_row2_col0\" class=\"data row2 col0\" >9.741443</td>\n",
       "      <td id=\"T_c9233_row2_col1\" class=\"data row2 col1\" >20.174277</td>\n",
       "      <td id=\"T_c9233_row2_col2\" class=\"data row2 col2\" >1841.865106</td>\n",
       "      <td id=\"T_c9233_row2_col3\" class=\"data row2 col3\" >40.187912</td>\n",
       "    </tr>\n",
       "    <tr>\n",
       "      <th id=\"T_c9233_level0_row3\" class=\"row_heading level0 row3\" >min</th>\n",
       "      <td id=\"T_c9233_row3_col0\" class=\"data row3 col0\" >6.000000</td>\n",
       "      <td id=\"T_c9233_row3_col1\" class=\"data row3 col1\" >26.880000</td>\n",
       "      <td id=\"T_c9233_row3_col2\" class=\"data row3 col2\" >482.130000</td>\n",
       "      <td id=\"T_c9233_row3_col3\" class=\"data row3 col3\" >33.000000</td>\n",
       "    </tr>\n",
       "    <tr>\n",
       "      <th id=\"T_c9233_level0_row4\" class=\"row_heading level0 row4\" >25%</th>\n",
       "      <td id=\"T_c9233_row4_col0\" class=\"data row4 col0\" >27.000000</td>\n",
       "      <td id=\"T_c9233_row4_col1\" class=\"data row4 col1\" >68.860000</td>\n",
       "      <td id=\"T_c9233_row4_col2\" class=\"data row4 col2\" >2203.430000</td>\n",
       "      <td id=\"T_c9233_row4_col3\" class=\"data row4 col3\" >68.000000</td>\n",
       "    </tr>\n",
       "    <tr>\n",
       "      <th id=\"T_c9233_level0_row5\" class=\"row_heading level0 row5\" >50%</th>\n",
       "      <td id=\"T_c9233_row5_col0\" class=\"data row5 col0\" >35.000000</td>\n",
       "      <td id=\"T_c9233_row5_col1\" class=\"data row5 col1\" >95.700000</td>\n",
       "      <td id=\"T_c9233_row5_col2\" class=\"data row5 col2\" >3184.800000</td>\n",
       "      <td id=\"T_c9233_row5_col3\" class=\"data row5 col3\" >99.000000</td>\n",
       "    </tr>\n",
       "    <tr>\n",
       "      <th id=\"T_c9233_level0_row6\" class=\"row_heading level0 row6\" >75%</th>\n",
       "      <td id=\"T_c9233_row6_col0\" class=\"data row6 col0\" >43.000000</td>\n",
       "      <td id=\"T_c9233_row6_col1\" class=\"data row6 col1\" >100.000000</td>\n",
       "      <td id=\"T_c9233_row6_col2\" class=\"data row6 col2\" >4508.000000</td>\n",
       "      <td id=\"T_c9233_row6_col3\" class=\"data row6 col3\" >124.000000</td>\n",
       "    </tr>\n",
       "    <tr>\n",
       "      <th id=\"T_c9233_level0_row7\" class=\"row_heading level0 row7\" >max</th>\n",
       "      <td id=\"T_c9233_row7_col0\" class=\"data row7 col0\" >97.000000</td>\n",
       "      <td id=\"T_c9233_row7_col1\" class=\"data row7 col1\" >100.000000</td>\n",
       "      <td id=\"T_c9233_row7_col2\" class=\"data row7 col2\" >14082.800000</td>\n",
       "      <td id=\"T_c9233_row7_col3\" class=\"data row7 col3\" >214.000000</td>\n",
       "    </tr>\n",
       "  </tbody>\n",
       "</table>\n"
      ],
      "text/plain": [
       "<pandas.io.formats.style.Styler at 0x7f0e84140230>"
      ]
     },
     "execution_count": 56,
     "metadata": {},
     "output_type": "execute_result"
    }
   ],
   "source": [
    "# Summary stats of Quantitative variables\n",
    "\n",
    "quantitive_vars = ['QUANTITYORDERED','PRICEEACH', 'SALES','MSRP']\n",
    "describe_quantitive_vars = raw[quantitive_vars].describe()\n",
    "describe_quantitive_vars.style.background_gradient(cmap = \"Blues\")"
   ]
  },
  {
   "cell_type": "markdown",
   "id": "0e36fb14-91cc-4abb-a1c9-92dbbd8ec6c0",
   "metadata": {},
   "source": [
    "## Analyze"
   ]
  },
  {
   "cell_type": "code",
   "execution_count": 73,
   "id": "5656e07c-3bf0-4824-a886-ff8d844e066b",
   "metadata": {},
   "outputs": [],
   "source": [
    "# Annual Revenue\n",
    "annual_revenue = pd.DataFrame(raw.groupby(['YEAR_ID'])['SALES'].sum())"
   ]
  },
  {
   "cell_type": "code",
   "execution_count": 74,
   "id": "5cabe152-95fb-4531-b000-7c8676c8e72b",
   "metadata": {},
   "outputs": [],
   "source": [
    "# Monthly Revenue\n",
    "monthly_revenue = pd.DataFrame(raw.groupby(['YEAR_ID','MONTH_ID'])['SALES'].sum())"
   ]
  },
  {
   "cell_type": "code",
   "execution_count": 57,
   "id": "92170baa-d9fa-45b8-8f94-584e4ee29498",
   "metadata": {},
   "outputs": [
    {
     "data": {
      "text/html": [
       "<div>\n",
       "<style scoped>\n",
       "    .dataframe tbody tr th:only-of-type {\n",
       "        vertical-align: middle;\n",
       "    }\n",
       "\n",
       "    .dataframe tbody tr th {\n",
       "        vertical-align: top;\n",
       "    }\n",
       "\n",
       "    .dataframe thead th {\n",
       "        text-align: right;\n",
       "    }\n",
       "</style>\n",
       "<table border=\"1\" class=\"dataframe\">\n",
       "  <thead>\n",
       "    <tr style=\"text-align: right;\">\n",
       "      <th></th>\n",
       "      <th>ORDERNUMBER</th>\n",
       "      <th>QUANTITYORDERED</th>\n",
       "      <th>PRICEEACH</th>\n",
       "      <th>ORDERLINENUMBER</th>\n",
       "      <th>SALES</th>\n",
       "      <th>ORDERDATE</th>\n",
       "      <th>STATUS</th>\n",
       "      <th>QTR_ID</th>\n",
       "      <th>MONTH_ID</th>\n",
       "      <th>YEAR_ID</th>\n",
       "      <th>PRODUCTLINE</th>\n",
       "      <th>MSRP</th>\n",
       "      <th>PRODUCTCODE</th>\n",
       "      <th>CUSTOMERNAME</th>\n",
       "      <th>CITY</th>\n",
       "      <th>COUNTRY</th>\n",
       "      <th>DEALSIZE</th>\n",
       "    </tr>\n",
       "  </thead>\n",
       "  <tbody>\n",
       "    <tr>\n",
       "      <th>0</th>\n",
       "      <td>10107</td>\n",
       "      <td>30</td>\n",
       "      <td>95.70</td>\n",
       "      <td>2</td>\n",
       "      <td>2871.00</td>\n",
       "      <td>2003-02-24</td>\n",
       "      <td>Shipped</td>\n",
       "      <td>1</td>\n",
       "      <td>2</td>\n",
       "      <td>2003</td>\n",
       "      <td>Motorcycles</td>\n",
       "      <td>95</td>\n",
       "      <td>S10_1678</td>\n",
       "      <td>Land of Toys Inc.</td>\n",
       "      <td>NYC</td>\n",
       "      <td>USA</td>\n",
       "      <td>Small</td>\n",
       "    </tr>\n",
       "    <tr>\n",
       "      <th>1</th>\n",
       "      <td>10121</td>\n",
       "      <td>34</td>\n",
       "      <td>81.35</td>\n",
       "      <td>5</td>\n",
       "      <td>2765.90</td>\n",
       "      <td>2003-05-07</td>\n",
       "      <td>Shipped</td>\n",
       "      <td>2</td>\n",
       "      <td>5</td>\n",
       "      <td>2003</td>\n",
       "      <td>Motorcycles</td>\n",
       "      <td>95</td>\n",
       "      <td>S10_1678</td>\n",
       "      <td>Reims Collectables</td>\n",
       "      <td>Reims</td>\n",
       "      <td>France</td>\n",
       "      <td>Small</td>\n",
       "    </tr>\n",
       "    <tr>\n",
       "      <th>2</th>\n",
       "      <td>10134</td>\n",
       "      <td>41</td>\n",
       "      <td>94.74</td>\n",
       "      <td>2</td>\n",
       "      <td>3884.34</td>\n",
       "      <td>2003-07-01</td>\n",
       "      <td>Shipped</td>\n",
       "      <td>3</td>\n",
       "      <td>7</td>\n",
       "      <td>2003</td>\n",
       "      <td>Motorcycles</td>\n",
       "      <td>95</td>\n",
       "      <td>S10_1678</td>\n",
       "      <td>Lyon Souveniers</td>\n",
       "      <td>Paris</td>\n",
       "      <td>France</td>\n",
       "      <td>Medium</td>\n",
       "    </tr>\n",
       "    <tr>\n",
       "      <th>3</th>\n",
       "      <td>10145</td>\n",
       "      <td>45</td>\n",
       "      <td>83.26</td>\n",
       "      <td>6</td>\n",
       "      <td>3746.70</td>\n",
       "      <td>2003-08-25</td>\n",
       "      <td>Shipped</td>\n",
       "      <td>3</td>\n",
       "      <td>8</td>\n",
       "      <td>2003</td>\n",
       "      <td>Motorcycles</td>\n",
       "      <td>95</td>\n",
       "      <td>S10_1678</td>\n",
       "      <td>Toys4GrownUps.com</td>\n",
       "      <td>Pasadena</td>\n",
       "      <td>USA</td>\n",
       "      <td>Medium</td>\n",
       "    </tr>\n",
       "    <tr>\n",
       "      <th>4</th>\n",
       "      <td>10159</td>\n",
       "      <td>49</td>\n",
       "      <td>100.00</td>\n",
       "      <td>14</td>\n",
       "      <td>5205.27</td>\n",
       "      <td>2003-10-10</td>\n",
       "      <td>Shipped</td>\n",
       "      <td>4</td>\n",
       "      <td>10</td>\n",
       "      <td>2003</td>\n",
       "      <td>Motorcycles</td>\n",
       "      <td>95</td>\n",
       "      <td>S10_1678</td>\n",
       "      <td>Corporate Gift Ideas Co.</td>\n",
       "      <td>San Francisco</td>\n",
       "      <td>USA</td>\n",
       "      <td>Medium</td>\n",
       "    </tr>\n",
       "  </tbody>\n",
       "</table>\n",
       "</div>"
      ],
      "text/plain": [
       "   ORDERNUMBER  QUANTITYORDERED  PRICEEACH  ORDERLINENUMBER    SALES  \\\n",
       "0        10107               30      95.70                2  2871.00   \n",
       "1        10121               34      81.35                5  2765.90   \n",
       "2        10134               41      94.74                2  3884.34   \n",
       "3        10145               45      83.26                6  3746.70   \n",
       "4        10159               49     100.00               14  5205.27   \n",
       "\n",
       "   ORDERDATE   STATUS  QTR_ID  MONTH_ID  YEAR_ID  PRODUCTLINE  MSRP  \\\n",
       "0 2003-02-24  Shipped       1         2     2003  Motorcycles    95   \n",
       "1 2003-05-07  Shipped       2         5     2003  Motorcycles    95   \n",
       "2 2003-07-01  Shipped       3         7     2003  Motorcycles    95   \n",
       "3 2003-08-25  Shipped       3         8     2003  Motorcycles    95   \n",
       "4 2003-10-10  Shipped       4        10     2003  Motorcycles    95   \n",
       "\n",
       "  PRODUCTCODE              CUSTOMERNAME           CITY COUNTRY DEALSIZE  \n",
       "0    S10_1678         Land of Toys Inc.            NYC     USA    Small  \n",
       "1    S10_1678        Reims Collectables          Reims  France    Small  \n",
       "2    S10_1678           Lyon Souveniers          Paris  France   Medium  \n",
       "3    S10_1678         Toys4GrownUps.com       Pasadena     USA   Medium  \n",
       "4    S10_1678  Corporate Gift Ideas Co.  San Francisco     USA   Medium  "
      ]
     },
     "execution_count": 57,
     "metadata": {},
     "output_type": "execute_result"
    }
   ],
   "source": [
    "raw.head()"
   ]
  }
 ],
 "metadata": {
  "kernelspec": {
   "display_name": "Python 3 (ipykernel)",
   "language": "python",
   "name": "python3"
  },
  "language_info": {
   "codemirror_mode": {
    "name": "ipython",
    "version": 3
   },
   "file_extension": ".py",
   "mimetype": "text/x-python",
   "name": "python",
   "nbconvert_exporter": "python",
   "pygments_lexer": "ipython3",
   "version": "3.12.10"
  }
 },
 "nbformat": 4,
 "nbformat_minor": 5
}
